{
 "metadata": {
  "name": "Programming for biologists 1"
 },
 "nbformat": 3,
 "nbformat_minor": 0,
 "worksheets": [
  {
   "cells": [
    {
     "cell_type": "markdown",
     "metadata": {},
     "source": [
      "#About Python\n",
      "\n",
      "This course is intended as an introduction to programming for biologists who have no previous programming experience. While it's certainly possible to learn by talking about programming in abstract terms, it's far more satisfying to learn by actually writing programmes, and for that we need to pick a language. Python is a nice language both to learn, and to use. It's an **interpreted** language, so a Python program is simply a text file that contains Python commands. It has a fairly consistent syntax, and a very nice set of built-in libraries to do useful things. Perhaps most important from the beginner's point of view, Python programmes tend to be easy to read relative to programmes written in other languages. When writing software, we often spend just as much time reading code as writing it, so this is important. \n",
      "\n",
      "Of course, Python has many other good features (dynamic typing, first-class functions, garbage collection), but to appreciate them requires more knowlege of programming languages than we can reasonably expect the beginner to have, so we will not discuss them further in this course. \n",
      "\n",
      "\n",
      "## Getting started\n",
      "\n",
      "To write a new Python program, create a new next file in your favourite editor, type (or copy & paste) some Python code, then save it with a filename ending in `.py`. Open a terminal window, navigate to the directory where you saved the file, and type the name of the Python executable, followed by the name of your file. On most systems, the Python 3 executable is called `python3`, so we will type:\n",
      "\n",
      "    python3 myscript.py\n",
      "\n",
      "Note: I will sometimes refer in these notes to a 'script', which is pretty much a synonym for 'program'. \n",
      "\n",
      "Wherever you see a box in the notes that is prefixed with `In[]` we are looking at Python code, which can be copied and pasted into a text file to run it. \n",
      "\n",
      "---"
     ]
    },
    {
     "cell_type": "markdown",
     "metadata": {},
     "source": [
      "#Printing and comments\n",
      "\n",
      "To print some output to the screen in Python we use the `print()` function:\n",
      "\n",
      "    print(\"hello!\")\n",
      "\n",
      "Notice that\n",
      "\n",
      "- print is a **function**\n",
      "- we write the name of the function, followed by a pair of brackets\n",
      "- the stuff inside the brackets is the **arguments** to the function (sometimes called **parameters**)\n",
      "- in this case we have one argument - the thing we want to print\n",
      "- the text we want to print is inside double quotes (this is called a **string**)\n",
      "- the line ends with a newline (carridge return, enter)\n",
      "- the text shows up in different colours (**syntax highlighting**)\n",
      "- a complete line like this is called a **statement**\n",
      "\n",
      "If we want to leave a note for ourselves, we start the line with a **#**. This is called a comment. We will make extensive use of comments in the code samples throughout these notes. Often, we write a comment which describes what the next line will do when it is executed:\n",
      "\n",
      "    # this next line will print a greeting\n",
      "    print(\"hello!\")\n",
      "\n",
      "This is a good habit to get into!\n",
      "\n",
      "Here are a few code samples that will cause stuff to be printed to the screen. Copy and paste them into text files and try running the code. The output for each code sample is displayed below the box."
     ]
    },
    {
     "cell_type": "code",
     "collapsed": false,
     "input": [
      "print(\"hello!\")"
     ],
     "language": "python",
     "metadata": {},
     "outputs": [
      {
       "output_type": "stream",
       "stream": "stdout",
       "text": [
        "hello!"
       ]
      }
     ],
     "prompt_number": 26
    },
    {
     "cell_type": "code",
     "collapsed": false,
     "input": [
      "#this is a comment - it is for humans to read\n",
      "print(\"hello again\")"
     ],
     "language": "python",
     "metadata": {},
     "outputs": [
      {
       "output_type": "stream",
       "stream": "stdout",
       "text": [
        "hello again"
       ]
      }
     ],
     "prompt_number": 27
    },
    {
     "cell_type": "code",
     "collapsed": false,
     "input": [
      "#we can prevent a statement from being run by putting a # at the start of the line\n",
      "#print(\"hello again\")\n",
      "print(\"goodbye\")"
     ],
     "language": "python",
     "metadata": {},
     "outputs": [
      {
       "output_type": "stream",
       "stream": "stdout",
       "text": [
        "goodbye"
       ]
      }
     ],
     "prompt_number": 28
    },
    {
     "cell_type": "code",
     "collapsed": false,
     "input": [
      "#we can use single quotes as well - sometimes this is easier\n",
      "print('you say goodbye, I say hello')\n",
      "#for instance, if we want to include a double quote in the output\n",
      "print('you say \"goodbye\", I say \"hello\"')"
     ],
     "language": "python",
     "metadata": {},
     "outputs": [
      {
       "output_type": "stream",
       "stream": "stdout",
       "text": [
        "you say goodbye, I say hello\n",
        "you say \"goodbye\", I say \"hello\""
       ]
      }
     ],
     "prompt_number": 31
    },
    {
     "cell_type": "code",
     "collapsed": false,
     "input": [
      "#if we forget the quotes we will get an error\n",
      "print(hello)"
     ],
     "language": "python",
     "metadata": {},
     "outputs": [
      {
       "ename": "NameError",
       "evalue": "name 'hello' is not defined",
       "output_type": "pyerr",
       "traceback": [
        "\u001b[1;31m---------------------------------------------------------------------------\u001b[0m\n\u001b[1;31mNameError\u001b[0m                                 Traceback (most recent call last)",
        "\u001b[1;32m/home/martin/Dropbox/projects/python_course/<ipython-input-32-d74c59043d06>\u001b[0m in \u001b[0;36m<module>\u001b[1;34m()\u001b[0m\n\u001b[0;32m      1\u001b[0m \u001b[1;31m#if we forget the quotes we will get an error\u001b[0m\n\u001b[1;33m\u001b[0m\u001b[0m\n\u001b[1;32m----> 2\u001b[1;33m \u001b[0mprint\u001b[0m\u001b[1;33m(\u001b[0m\u001b[0mhello\u001b[0m\u001b[1;33m)\u001b[0m\u001b[1;33m\u001b[0m\u001b[0m\n\u001b[0m",
        "\u001b[1;31mNameError\u001b[0m: name 'hello' is not defined"
       ]
      }
     ],
     "prompt_number": 32
    },
    {
     "cell_type": "code",
     "collapsed": false,
     "input": [
      "#if we forget the brackets we will also get an error\n",
      "print 'Hello'"
     ],
     "language": "python",
     "metadata": {},
     "outputs": [
      {
       "ename": "SyntaxError",
       "evalue": "invalid syntax (<ipython-input-33-dcd43251734a>, line 2)",
       "output_type": "pyerr",
       "traceback": [
        "\u001b[1;36m  File \u001b[1;32m\"<ipython-input-33-dcd43251734a>\"\u001b[1;36m, line \u001b[1;32m2\u001b[0m\n\u001b[1;33m    print 'Hello'\u001b[0m\n\u001b[1;37m                ^\u001b[0m\n\u001b[1;31mSyntaxError\u001b[0m\u001b[1;31m:\u001b[0m invalid syntax\n"
       ]
      }
     ],
     "prompt_number": 33
    },
    {
     "cell_type": "markdown",
     "metadata": {},
     "source": [
      "#Variables\n",
      "\n",
      "We can give a name to a string. The name is called a **variable**\n",
      "\n",
      "    name = 'Martin'\n",
      "\n",
      "We can **concatenate** two strings (stick them together) with **+** \n",
      "\n",
      "    name = 'Mar' + 'tin'"
     ]
    },
    {
     "cell_type": "code",
     "collapsed": false,
     "input": [
      "# once we have created a variable, we can use it in print\n",
      "name = 'Martin'\n",
      "print(name)"
     ],
     "language": "python",
     "metadata": {},
     "outputs": [
      {
       "output_type": "stream",
       "stream": "stdout",
       "text": [
        "Martin"
       ]
      }
     ],
     "prompt_number": 34
    },
    {
     "cell_type": "code",
     "collapsed": false,
     "input": [
      "# we can change a variable after we have made it\n",
      "name = 'Martin'\n",
      "print(name)\n",
      "name = 'John'\n",
      "print(name)"
     ],
     "language": "python",
     "metadata": {},
     "outputs": [
      {
       "output_type": "stream",
       "stream": "stdout",
       "text": [
        "Martin\n",
        "John"
       ]
      }
     ],
     "prompt_number": 35
    },
    {
     "cell_type": "code",
     "collapsed": false,
     "input": [
      "# we can use concatenation to make new strings which we can print\n",
      "print('hello ' + 'world')\n",
      "# we are not allowed to use spaces in variable names so use an underscore\n",
      "first_name = 'Martin'\n",
      "print('hello ' +  first_name)\n",
      "last_name = 'Jones'\n",
      "# we can use a mixture of strings and variables \n",
      "print('hello ' + first_name + last_name)\n",
      "# that is not quite right, we need a space between first and last names\n",
      "print('hello ' + first_name + ' ' + last_name)"
     ],
     "language": "python",
     "metadata": {},
     "outputs": [
      {
       "output_type": "stream",
       "stream": "stdout",
       "text": [
        "hello world\n",
        "hello Martin\n",
        "hello MartinJones\n",
        "hello Martin Jones"
       ]
      }
     ],
     "prompt_number": 36
    },
    {
     "cell_type": "code",
     "collapsed": false,
     "input": [
      "# we can also store a new string in a variable and use it later\n",
      "first_name = 'Martin'\n",
      "last_name = 'Jones'\n",
      "full_name = first_name + ' ' + last_name\n",
      "print('hello ' + full_name)"
     ],
     "language": "python",
     "metadata": {},
     "outputs": [
      {
       "output_type": "stream",
       "stream": "stdout",
       "text": [
        "hello Martin Jones"
       ]
      }
     ],
     "prompt_number": 37
    },
    {
     "cell_type": "markdown",
     "metadata": {},
     "source": [
      "##Strings and functions\n",
      "\n",
      "To get the length of a string we use\n",
      "\n",
      "    len('hello Martin')\n",
      "\n",
      "we can also use a variable\n",
      "\n",
      "    len(first_name)\n",
      "\n",
      "`len()` is a **function** and the string that we give it is a **parameter**. \n",
      "\n",
      "Another useful function is `str()`, which turns a number into a string.\n",
      "\n",
      "    str(42)"
     ]
    },
    {
     "cell_type": "code",
     "collapsed": false,
     "input": [
      "# we can print the output of a function\n",
      "print(len('hello'))\n",
      "# or we can store it\n",
      "name_length = len('Martin')\n",
      "print(name_length)"
     ],
     "language": "python",
     "metadata": {},
     "outputs": [
      {
       "output_type": "stream",
       "stream": "stdout",
       "text": [
        "5\n",
        "6"
       ]
      }
     ],
     "prompt_number": 38
    },
    {
     "cell_type": "code",
     "collapsed": false,
     "input": [
      "# the output from len() is not a string - it is a number\n",
      "# so python will complain if we try to use it like a string\n",
      "print('your name is has this many letters: ' + len('martin'))"
     ],
     "language": "python",
     "metadata": {},
     "outputs": [
      {
       "ename": "TypeError",
       "evalue": "Can't convert 'int' object to str implicitly",
       "output_type": "pyerr",
       "traceback": [
        "\u001b[1;31m---------------------------------------------------------------------------\u001b[0m\n\u001b[1;31mTypeError\u001b[0m                                 Traceback (most recent call last)",
        "\u001b[1;32m/home/martin/Dropbox/projects/python_course/<ipython-input-39-4694ed1b9d25>\u001b[0m in \u001b[0;36m<module>\u001b[1;34m()\u001b[0m\n\u001b[0;32m      1\u001b[0m \u001b[1;31m# the output from len() is not a string - it is a number\u001b[0m\n\u001b[1;33m\u001b[0m\u001b[0m\n\u001b[0;32m      2\u001b[0m \u001b[1;31m# so python will complain if we try to use it like a string\u001b[0m\n\u001b[1;33m\u001b[0m\u001b[0m\n\u001b[1;32m----> 3\u001b[1;33m \u001b[0mprint\u001b[0m\u001b[1;33m(\u001b[0m\u001b[1;34m'your name is has this many letters: '\u001b[0m \u001b[1;33m+\u001b[0m \u001b[0mlen\u001b[0m\u001b[1;33m(\u001b[0m\u001b[1;34m'martin'\u001b[0m\u001b[1;33m)\u001b[0m\u001b[1;33m)\u001b[0m\u001b[1;33m\u001b[0m\u001b[0m\n\u001b[0m",
        "\u001b[1;31mTypeError\u001b[0m: Can't convert 'int' object to str implicitly"
       ]
      }
     ],
     "prompt_number": 39
    },
    {
     "cell_type": "code",
     "collapsed": false,
     "input": [
      "# we have to use str() to turn it into a number\n",
      "name_length = len('Martin')\n",
      "print('your name is has this many letters: ' + str(name_length))"
     ],
     "language": "python",
     "metadata": {},
     "outputs": [
      {
       "output_type": "stream",
       "stream": "stdout",
       "text": [
        "your name is has this many letters: 6"
       ]
      }
     ],
     "prompt_number": 40
    },
    {
     "cell_type": "code",
     "collapsed": false,
     "input": [
      "# we can do everything in one go like this\n",
      "# we use the output of len() as the input for str()\n",
      "print('your name is has this many letters: ' + str(len('martin')))  \n",
      "# when we write it this way we have three consecutive close brackets at the end of the line\n",
      "# make sure you have the same number of ( and )"
     ],
     "language": "python",
     "metadata": {},
     "outputs": [
      {
       "output_type": "stream",
       "stream": "stdout",
       "text": [
        "your name is has this many letters: 6"
       ]
      }
     ],
     "prompt_number": 41
    },
    {
     "cell_type": "markdown",
     "metadata": {},
     "source": [
      "#Reading files\n",
      "\n",
      "To open a text file, we use the `open()` function. \n",
      "\n",
      "    file = open('myfile.name')\n",
      "\n",
      "`open()` takes one argument - the filename. \n",
      "The output (or **return value**) is an **object** that represents the file.\n",
      "\n",
      "To read the contents of a file, use the `read()` **method** on the file object.\n",
      "\n",
      "    contents = file.read()\n",
      "\n",
      "This is slightly different to using a function. The read method belongs to the variable which holds the file object, so we write the name of the variable first, then a dot and the method name."
     ]
    },
    {
     "cell_type": "code",
     "collapsed": false,
     "input": [
      "# open a file called input.txt in the current directory\n",
      "file = open('input.txt')\n",
      "# read the contents of the file and store them in a variable called contents\n",
      "contents = file.read()\n",
      "# print the contents\n",
      "print(contents)"
     ],
     "language": "python",
     "metadata": {},
     "outputs": [
      {
       "output_type": "stream",
       "stream": "stdout",
       "text": [
        "Martin Jones\n"
       ]
      }
     ],
     "prompt_number": 42
    },
    {
     "cell_type": "code",
     "collapsed": false,
     "input": [
      "# note that we have to print the variable that holds the contents of the file\n",
      "# if we try to print the file we don't get what we want\n",
      "\n",
      "file = open('input.txt')\n",
      "print(file)"
     ],
     "language": "python",
     "metadata": {},
     "outputs": [
      {
       "output_type": "stream",
       "stream": "stdout",
       "text": [
        "<_io.TextIOWrapper name='input.txt' mode='r' encoding='UTF-8'>"
       ]
      }
     ],
     "prompt_number": 43
    },
    {
     "cell_type": "code",
     "collapsed": false,
     "input": [
      "# however, we can call read() and give it to print() right away\n",
      "file = open('input.txt')\n",
      "print(file.read())"
     ],
     "language": "python",
     "metadata": {},
     "outputs": [
      {
       "output_type": "stream",
       "stream": "stdout",
       "text": [
        "Martin Jones\n"
       ]
      }
     ],
     "prompt_number": 44
    },
    {
     "cell_type": "code",
     "collapsed": false,
     "input": [
      "# we will get an error if we try to open a file that doesn't exist\n",
      "file = open('missingfile.txt')"
     ],
     "language": "python",
     "metadata": {},
     "outputs": [
      {
       "ename": "IOError",
       "evalue": "[Errno 2] No such file or directory: 'missingfile.txt'",
       "output_type": "pyerr",
       "traceback": [
        "\u001b[1;31m---------------------------------------------------------------------------\u001b[0m\n\u001b[1;31mIOError\u001b[0m                                   Traceback (most recent call last)",
        "\u001b[1;32m/home/martin/Dropbox/projects/python_course/<ipython-input-45-eed697387c19>\u001b[0m in \u001b[0;36m<module>\u001b[1;34m()\u001b[0m\n\u001b[0;32m      1\u001b[0m \u001b[1;31m# we will get an error if we try to open a file that doesn't exist\u001b[0m\n\u001b[1;33m\u001b[0m\u001b[0m\n\u001b[1;32m----> 2\u001b[1;33m \u001b[0mfile\u001b[0m \u001b[1;33m=\u001b[0m \u001b[0mopen\u001b[0m\u001b[1;33m(\u001b[0m\u001b[1;34m'missingfile.txt'\u001b[0m\u001b[1;33m)\u001b[0m\u001b[1;33m\u001b[0m\u001b[0m\n\u001b[0m",
        "\u001b[1;31mIOError\u001b[0m: [Errno 2] No such file or directory: 'missingfile.txt'"
       ]
      }
     ],
     "prompt_number": 45
    },
    {
     "cell_type": "markdown",
     "metadata": {},
     "source": [
      "##Writing to files\n",
      "\n",
      "The `open()` function is actually more complicated than described above.\n",
      "\n",
      "We can use a second argument, which is a string describing what we want to do to the file. \n",
      "\n",
      "In this case, we want to **write** to the file, and we want it to be a **text** file, so we use the string **\"wt\"**\n",
      "\n",
      "    file = open('output.txt', 'wt')\n",
      "\n",
      "There is a `write()` method that is similar to the `read()` method\n",
      "\n",
      "    file.write('Hello Martin')\n",
      "\n",
      "When we have finished writing to a file, we call the `close()` method\n",
      "\n",
      "    file.close()\n",
      "\n",
      "The `close()` method is interesting because it does not take any arguments, and we do not store the result. For small scripts, it's not strictly necessary, but it is a good habit to get into."
     ]
    },
    {
     "cell_type": "code",
     "collapsed": true,
     "input": [
      "# open an output file\n",
      "file = open('output.txt', 'wt')\n",
      "# write some text to it\n",
      "file.write('Hello Martin')\n",
      "# close the file\n",
      "file.close()"
     ],
     "language": "python",
     "metadata": {},
     "outputs": [],
     "prompt_number": 46
    },
    {
     "cell_type": "code",
     "collapsed": true,
     "input": [
      "# we can also append to an existing file by using a instead of w\n",
      "file = open('output2.txt', 'at')\n",
      "# every time we run this bit of code we will add a new line to the file\n",
      "file.write(\"Hello again\\n\")\n",
      "# the \\n is a special combination of characters - it means start a new line\n",
      "file.close()"
     ],
     "language": "python",
     "metadata": {},
     "outputs": [],
     "prompt_number": 47
    },
    {
     "cell_type": "code",
     "collapsed": true,
     "input": [
      "# we can do all the string stuff we already know about in write()\n",
      "first_name = 'Martin'\n",
      "last_name = 'Jones'\n",
      "file = open('output3.txt', 'wt')\n",
      "file.write('hello ' + first_name + ' ' + last_name)\n",
      "file.close()"
     ],
     "language": "python",
     "metadata": {},
     "outputs": [],
     "prompt_number": 48
    },
    {
     "cell_type": "markdown",
     "metadata": {},
     "source": [
      "##A small program\n",
      "\n",
      "Here is a program that reads a first name from one file and a last name from a second file. It then opens a third file and writes a greeting to it. \n",
      "\n",
      "We need to use one more method in this program - `rstrip()`. This method removes characters from the right-hand end of a string. The argument is the character that we want to remove.\n",
      "\n",
      "In this case we want to remove a newline from the end of the string so we call `first_name.rstrip('\\n')`. Remember that '\\n' mean a newline. \n",
      "\n",
      "If we left out the `rstrip` then we would have an unwanted newline in the middle of our output.\n",
      "\n",
      "Rather than storing the result in a variable we use it straight away as part of the `print` statement.\n",
      "\n",
      "Notice that\n",
      "\n",
      "- we use a different variable name for each file that we open\n",
      "- we have put in some blank lines to separate the different parts of the program\n",
      "- there is no connection between the name of the variable **first_name_file** and the filename **firstname.txt**. We could replace all instances of **first_name_file** with **banana** and the script would work just as well (but it would be harder to read!)\n",
      "\n",
      "The line that does the writing is a little bit difficult to read - we will learn a better way of doing this in a future session"
     ]
    },
    {
     "cell_type": "code",
     "collapsed": true,
     "input": [
      "# here we read a first and last name from two different files\n",
      "# then write a greeting to a third file\n",
      "first_name_file = open('firstname.txt')\n",
      "first_name = first_name_file.read()\n",
      "\n",
      "last_name_file = open('lastname.txt')\n",
      "last_name = last_name_file.read()\n",
      "\n",
      "output_file = open('fullname.txt', 'wt')\n",
      "output_file.write('hello ' + first_name.rstrip('\\n') + ' ' + last_name + \"\\n\")\n",
      "output_file.close()"
     ],
     "language": "python",
     "metadata": {},
     "outputs": [],
     "prompt_number": 49
    },
    {
     "cell_type": "markdown",
     "metadata": {},
     "source": [
      "---\n",
      "\n",
      "##Exercises\n",
      "\n",
      "**1**. Copy and paste the above script into a new text file and check that you can run it using python. You will have to create the input files _firstname.txt_ and _lastname.txt_ on your computer.\n",
      "\n",
      "**2**. Edit the files _firstname.txt_ and _lastname.txt_ to reflect your own name. Rerun the script and check that the output changes. \n",
      "\n",
      "**3**. Modify the script so that it only reads the first name from a file, and has the second one written in the script as a string (we call this **hard-coded**).\n",
      "\n",
      "**4**. Modify the script so that all three filenames are stored in variables at the start of the script. \n",
      "\n",
      "**5**.Write a similar script that opens one file containing a DNA sequence, and another file containing a sequence name, \n",
      "and writes out the sequence in FASTA format to a third file. You will need to create the two input files (just use a made-up name and made-up sequence).\n",
      "\n",
      "**6**.Modify your script so that it after writing the FASTA file, it prints a success message telling you the name of the sequence and its length.\n",
      "\n",
      "**7**.We can use the `.upper()` and `.lower()` methods to convert strings to upper/lower case like this: `new_string = old_string.upper()`.\n",
      "Modify your script so that it converts the dna sequence to upper/lower case (and test that it works!).\n",
      "\n",
      "**8**.The `.replace('old', 'new')` string method replaces all instances of 'old' with 'new'. Modify your script to use this method to convert your DNA sequence to \n",
      "RNA by replacing all T with U.\n"
     ]
    },
    {
     "cell_type": "code",
     "collapsed": false,
     "input": [],
     "language": "python",
     "metadata": {},
     "outputs": []
    }
   ],
   "metadata": {}
  }
 ]
}