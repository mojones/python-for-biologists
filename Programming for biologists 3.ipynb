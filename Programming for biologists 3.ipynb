{
 "metadata": {
  "name": "Programming for biologists 3"
 },
 "nbformat": 3,
 "nbformat_minor": 0,
 "worksheets": [
  {
   "cells": [
    {
     "cell_type": "markdown",
     "metadata": {},
     "source": [
      "##Lists\n",
      "\n",
      "So far we have used variables to store single values - either strings:\n",
      "\n",
      "    sequence = 'atgc'\n",
      "\n",
      "or numbers:\n",
      "\n",
      "    length = len(sequence)\n",
      "\n",
      "Lists can hold multiple values:\n",
      "\n",
      "    accessions = ['ABC123', 'XYZ123', 'HIJ456']\n",
      "    lengths = [56,45,87,99]\n",
      "\n",
      "Use square brackets to make a list, and separate the **elements** with commas.\n",
      "\n",
      "To get a single element, put the **index** of the element you want in square brackets:\n",
      "\n",
      "    accessions[1]\n",
      "\n",
      "Computers start counting from 0 rather than 1, so the first element is `accessions[0]` and the last (third) one is `accessions[2]`.\n",
      "\n",
      "Here are some examples of working with lists:"
     ]
    },
    {
     "cell_type": "code",
     "collapsed": true,
     "input": [
      "# we can use an element of a list anywhere that we can use a single value\n",
      "accessions = ['ABC123', 'XYZ123', 'HIJ456']\n",
      "print(accessions[1])\n",
      "print(len(accessions[1]))"
     ],
     "language": "python",
     "metadata": {},
     "outputs": [
      {
       "output_type": "stream",
       "stream": "stdout",
       "text": [
        "XYZ123\n",
        "6\n"
       ]
      }
     ],
     "prompt_number": 1
    },
    {
     "cell_type": "code",
     "collapsed": true,
     "input": [
      "# we can also do the opposite - find the index of a given element\n",
      "# index() is a list method\n",
      "accessions = ['ABC123', 'XYZ123', 'HIJ456']\n",
      "print(accessions.index('HIJ456'))"
     ],
     "language": "python",
     "metadata": {},
     "outputs": [
      {
       "output_type": "stream",
       "stream": "stdout",
       "text": [
        "2\n"
       ]
      }
     ],
     "prompt_number": 2
    },
    {
     "cell_type": "code",
     "collapsed": true,
     "input": [
      "# len() works on lists as well as strings\n",
      "accessions = ['ABC123', 'XYZ123', 'HIJ456']\n",
      "print(len(accessions))"
     ],
     "language": "python",
     "metadata": {},
     "outputs": [
      {
       "output_type": "stream",
       "stream": "stdout",
       "text": [
        "3\n"
       ]
      }
     ],
     "prompt_number": 3
    },
    {
     "cell_type": "code",
     "collapsed": true,
     "input": [
      "# so does +\n",
      "accessions = ['ABC123', 'XYZ123']\n",
      "more_accessions = ['DEF789', 'KLM666']\n",
      "all_accessions = accessions + more_accessions\n",
      "print(all_accessions)"
     ],
     "language": "python",
     "metadata": {},
     "outputs": [
      {
       "output_type": "stream",
       "stream": "stdout",
       "text": [
        "['ABC123', 'XYZ123', 'DEF789', 'KLM666']\n"
       ]
      }
     ],
     "prompt_number": 4
    },
    {
     "cell_type": "code",
     "collapsed": false,
     "input": [
      "# if we want to add a single value to a list, don't use +, use append()\n",
      "accessions = ['ABC123', 'XYZ123']\n",
      "accessions.append('DEF865')\n",
      "print(accessions)"
     ],
     "language": "python",
     "metadata": {},
     "outputs": [
      {
       "output_type": "stream",
       "stream": "stdout",
       "text": [
        "['ABC123', 'XYZ123', 'DEF865']"
       ]
      }
     ],
     "prompt_number": 47
    },
    {
     "cell_type": "code",
     "collapsed": true,
     "input": [
      "# we can easily sort a list - very useful!\n",
      "accessions = ['ABC123', 'XYZ123', 'HIJ456']\n",
      "# important: this is a function (not a method) and it does not change the original list\n",
      "sorted_accessions = sorted(accessions)\n",
      "print(accessions)\n",
      "print(sorted_accessions)"
     ],
     "language": "python",
     "metadata": {},
     "outputs": [
      {
       "output_type": "stream",
       "stream": "stdout",
       "text": [
        "['ABC123', 'XYZ123', 'HIJ456']\n",
        "['ABC123', 'HIJ456', 'XYZ123']\n"
       ]
      }
     ],
     "prompt_number": 5
    },
    {
     "cell_type": "code",
     "collapsed": false,
     "input": [
      "# we can reverse a list \n",
      "accessions = ['ABC123', 'XYZ123', 'HIJ456']\n",
      "accessions.reverse()\n",
      "print(accessions)"
     ],
     "language": "python",
     "metadata": {},
     "outputs": [
      {
       "output_type": "stream",
       "stream": "stdout",
       "text": [
        "['HIJ456', 'XYZ123', 'ABC123']"
       ]
      }
     ],
     "prompt_number": 39
    },
    {
     "cell_type": "markdown",
     "metadata": {},
     "source": [
      "##Iterating over lists\n",
      "\n",
      "Very commonly, we want to do something for each element in a list. Python has a built-in `for` loop that does this:\n",
      "\n",
      "    accessions = ['ABC123', 'XYZ123', 'HIJ456']\n",
      "    for acc in accessions:\n",
      "        print('one accession is ' + acc)\n",
      "        print('the accession has this many characters: ' + len(acc))\n",
      "        print('in lower case, the accession is ' + acc.lower())\n",
      "\n",
      "Things to notice:\n",
      "\n",
      "- we write `for`, then a temporary name, then `in`, then the name of the list\n",
      "- this line ends with a colon (just like function definition)\n",
      "- the statements that we want to run for each element (the **body**) are indented (just like function definition)\n",
      "- inside the body we can use the temporary name to refer to the current element\n",
      "- the body gets executed once for each element in the list\n",
      "- we are not allowed to change the list inside the body!!"
     ]
    },
    {
     "cell_type": "code",
     "collapsed": true,
     "input": [
      "accessions = ['ABC123', 'XYZ123', 'HIJ456']\n",
      "for acc in accessions:\n",
      "    print('one accession is ' + acc)\n",
      "    print('the accession has this many characters: ' + str(len(acc)))\n",
      "    print('in lower case, the accession is ' + acc.lower())\n",
      "print('finished!')"
     ],
     "language": "python",
     "metadata": {},
     "outputs": [
      {
       "output_type": "stream",
       "stream": "stdout",
       "text": [
        "one accession is ABC123\n",
        "the accession has this many characters: 6\n",
        "in lower case, the accession is abc123\n",
        "one accession is XYZ123\n",
        "the accession has this many characters: 6\n",
        "in lower case, the accession is xyz123\n",
        "one accession is HIJ456\n",
        "the accession has this many characters: 6\n",
        "in lower case, the accession is hij456\n",
        "finished!\n"
       ]
      }
     ],
     "prompt_number": 6
    },
    {
     "cell_type": "markdown",
     "metadata": {},
     "source": [
      "##Iterating over strings and files\n",
      "\n",
      "Python has two very useful feature for bioinformaticians - we can treat a string like a list (the elements are characters) ond we can treat a file like a list (the elements are lines)"
     ]
    },
    {
     "cell_type": "code",
     "collapsed": true,
     "input": [
      "dna = 'catcgatcgatcgtagcat'\n",
      "for base in dna:\n",
      "    print(base)"
     ],
     "language": "python",
     "metadata": {},
     "outputs": [
      {
       "output_type": "stream",
       "stream": "stdout",
       "text": [
        "c\n",
        "a\n",
        "t\n",
        "c\n",
        "g\n",
        "a\n",
        "t\n",
        "c\n",
        "g\n",
        "a\n",
        "t\n",
        "c\n",
        "g\n",
        "t\n",
        "a\n",
        "g\n",
        "c\n",
        "a\n",
        "t\n"
       ]
      }
     ],
     "prompt_number": 7
    },
    {
     "cell_type": "code",
     "collapsed": true,
     "input": [
      "accessions_file = open('accessions.txt')\n",
      "for acc in accessions_file:\n",
      "    print('one accession is ' + acc.rstrip('\\n'))"
     ],
     "language": "python",
     "metadata": {},
     "outputs": [
      {
       "output_type": "stream",
       "stream": "stdout",
       "text": [
        "one accession is JQ686056.1\n",
        "one accession is JQ073812.1\n",
        "one accession is JQ740884.1\n",
        "one accession is JQ798139.1\n",
        "one accession is JQ798137.1\n",
        "one accession is JQ798135.1\n",
        "one accession is JQ798133.1\n",
        "one accession is JQ798131.1\n",
        "one accession is JQ798129.1\n",
        "one accession is JQ798127.1\n",
        "one accession is JQ798125.1\n",
        "one accession is JQ798123.1\n",
        "one accession is JQ798121.1\n",
        "one accession is JQ798119.1\n",
        "one accession is JQ798117.1\n",
        "one accession is JQ798115.1\n",
        "one accession is JQ798113.1\n",
        "one accession is JQ798111.1\n",
        "one accession is JQ798109.1\n",
        "one accession is JQ798107.1\n"
       ]
      }
     ],
     "prompt_number": 8
    },
    {
     "cell_type": "markdown",
     "metadata": {},
     "source": [
      "##Spliting a string to make a list\n",
      "\n",
      "We can turn a string into a list using the `.split()` method. This is very handy for reading lines in file that have multiple comumns with some separator between them. \n",
      "\n",
      "`split()` takes one argument, which is the delimiter (the places where we want to cut the string)"
     ]
    },
    {
     "cell_type": "code",
     "collapsed": false,
     "input": [
      "string_with_commas = 'one,two,three,four'\n",
      "list1 = string_with_commas.split(',')\n",
      "print(list1)\n",
      "\n",
      "string_with_spaces = 'five six seven eight'\n",
      "list2 = string_with_spaces.split(' ')\n",
      "print(list2)"
     ],
     "language": "python",
     "metadata": {},
     "outputs": [
      {
       "output_type": "stream",
       "stream": "stdout",
       "text": [
        "['one', 'two', 'three', 'four']\n",
        "['five', 'six', 'seven', 'eight']"
       ]
      }
     ],
     "prompt_number": 19
    },
    {
     "cell_type": "markdown",
     "metadata": {},
     "source": [
      "## Exercises\n",
      "\n",
      "**1**. Copy and paste this into a new file. Each line has the name of a DNA sequence, then a space, then the sequence itself.\n",
      "\n",
      "    abc123 atcgatcgactgtagaattccgatcgatcgatcgatactgatactggagg\n",
      "    juh365 ctaggaccgctatagtagtcgatcacgacgatcgatgacgtc\n",
      "    heo875 catcgatcgatcgatctacgatcgctgatcgggtccctag\n",
      "    meg548 gcgcctacgatcgcgtcgatatcgaattcgattcgatccgactaggatcg\n",
      "\n",
      "Write a program that reads this file and produces a FASTA file with these four sequences properly formatted i.e.\n",
      "\n",
      "    >abc123\n",
      "    atcgatcgactgtagaattccgatcgatcgatcgatactgatactggagg\n",
      "    >juh365\n",
      "    ctaggaccgctatagtagtcgatcacgacgatcgatgacgtc\n",
      "    >heo875\n",
      "    catcgatcgatcgatctacgatcgctgatcgggtccctag\n",
      "    >meg548\n",
      "    gcgcctacgatcgcgtcgatatcgaattcgattcgatccgactaggatcg\n",
      "    \n",
      "Think about the structure of the program before you start. You must \n",
      "\n",
      "- open the input file with `open()`\n",
      "- open the output file with `open()`\n",
      "- process each line in the input file separately with `for ... in ...:`\n",
      "- split each input line to make a list with two elements using `split()`\n",
      "- construct the output text (maybe you should re-use your `format_fasta()` from section 2)\n",
      "- write the output text to the output file\n",
      "\n",
      "**2**. Modify your program so that the sequences are sorted according to their name.\n",
      "\n",
      "**3**. Modify your program so that instead of a single FASTA file with four sequences, you get four FASTA files with one sequence each. Make the name of each FASTA file the same as the name of the sequence it contains."
     ]
    },
    {
     "cell_type": "code",
     "collapsed": false,
     "input": [],
     "language": "python",
     "metadata": {},
     "outputs": []
    }
   ],
   "metadata": {}
  }
 ]
}