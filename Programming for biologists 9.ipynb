{
 "metadata": {
  "name": "Programming for biologists 9"
 },
 "nbformat": 3,
 "nbformat_minor": 0,
 "worksheets": [
  {
   "cells": [
    {
     "cell_type": "markdown",
     "metadata": {},
     "source": [
      "##Command line arguments\n",
      "\n",
      "If you are writing a program to be used as part of a workflow then passing command-line arguments to your program can make life much easier. \n",
      "\n",
      "In Python, command line arguments are stored in the list `sys.argv`. The first argument is the name of the script. Remember to import the `sys` module first:\n",
      "\n",
      "    import sys\n",
      "    input_filename = sys.argv[1]\n",
      "    output_filename = sys.argv[2]\n",
      "\n",
      "## User input\n",
      "\n",
      "If you want to get input typed in by the user, use the `input()` function. `input` takes a string as its argument, which it will display to the user. \n",
      "The return value is the text that the user typed in before pressing enter.\n",
      "\n",
      "    sequence_name = input('type the sequence name: ')\n",
      "\n",
      "## Downloading data\n",
      "\n",
      "If you want to get data from a web page, use the `urllib.request` module:"
     ]
    },
    {
     "cell_type": "code",
     "collapsed": true,
     "input": [
      "import urllib.request\n",
      "f = urllib.request.urlopen('http://nematodes.org')\n",
      "result = f.read()\n",
      "print(result)"
     ],
     "language": "python",
     "metadata": {},
     "outputs": [
      {
       "output_type": "stream",
       "stream": "stdout",
       "text": [
        "b'<!DOCTYPE html PUBLIC \"-//W3C//DTD XHTML 1.0 Transitional//EN\" \"http://www.w3.org/TR/xhtml1/DTD/xhtml1-transitional.dtd\">\\n<html xmlns=\"http://www.w3.org/1999/xhtml\"><!-- InstanceBegin template=\"/templates/bang2010_grey999999.dwt\" codeOutsideHTMLIsLocked=\"false\" -->\\n<head>\\n<meta http-equiv=\"Content-Type\" content=\"text/html; charset=UTF-8\" />\\n\\n<!-- InstanceBeginEditable name=\"doctitle\" -->\\n<title> www.nematodes.org - the Home of Nematode and Neglected Genomics in the Blaxter Lab </title>\\n<!-- InstanceEndEditable -->\\n<link href=\"/webtech/includes/grey999999/bang2010_grey999999.css\" rel=\"stylesheet\" type=\"text/css\" />\\n</head>\\n<body>\\n<!--Table 1 = Banner header-->\\n<table bgcolor=\"#000000\" width=\"100%\">\\n\\t<tr>\\n\\t\\t<td align=\"left\" width=\"100px\">\\n\\t\\t\\t<a href=\"http://www.nematodes.org/\">\\n\\t\\t\\t<img src=\"/images/acrobelesrainbow.gif\" width=\"85\" height=\"110\" alt=\"Acrobeles complexus\" longdesc=\"http://www.nematodes.org/\" />\\n\\t\\t\\t</a>\\n\\t\\t</td>\\n\\t\\t<td>\\n\\t\\t\\t<h1>nematodes.org</h1>\\n\\t\\t\\t<h2>Nematode &amp; Neglected Genomics <br /> @ The Blaxter Lab, <a href=\"http://www.biology.ed.ac.uk/research/institutes/evolution/\">Institute of Evolutionary Biology</a>, <a href=\"http://www.ed.ac.uk/schools-departments/biology\">School of Biological Sciences</a>, <a href=\"http://www.ed.ac.uk/home\">The University of Edinburgh</a></h2>\\n\\t\\t</td>\\n\\t\\t<td align=\"right\">\\n\\t\\t\\t\\n\\t\\t\\t<img src=\"/images/homeCrest_black.gif\" width=\"75\" height=\"75\" alt=\"University of Edinburgh crest\" longdesc=\"http://www.ed.ac.uk\" />\\n\\t\\t\\t&nbsp;&nbsp;\\n\\t\\t</td>\\n\\t</tr>\\n</table>\\n\\n<!--Table2 = horizontal lists -->\\n<table width=100% bgcolor=\"#999999\">\\n\\t<tr>\\n    \\t<td bgcolor=\"#FFFFFF\" height=\"1\">\\n    </td>\\n    </tr>\\n    <tr>\\n    \\t<td align=\"center\">\\n\\n\\t\\t\\t<!-- horizontal List 1-->\\n\\t\\t\\t<div id=\"navigation\">\\n\\t\\t\\t<ul>\\n\\t\\t\\t<li><a href=\"http://www.nematodes.org/\">&nbsp;<strong>Home</strong>&nbsp;</a></li>\\n\\t\\t\\t<li><a href=\"http://genepool.bio.ed.ac.uk/\">&nbsp;GenePool&nbsp;</a></li>\\n\\t\\t\\t<li><a href=\"http://www.nematodegenomes.org/\">&nbsp;959 Nematode Genomes&nbsp;</a></li>\\n\\t\\t\\t<li><a href=\"/teaching/\">&nbsp;Teaching&nbsp;</a></li>\\n\\t\\t\\t<li><a href=\"/research/\">&nbsp;Research Projects&nbsp;</a></li>\\n\\t\\t\\t<li><a href=\"/bioinformatics/\">&nbsp;Bioinformatics Software Tools&nbsp;</a></li>\\n\\t\\t\\t<li><a href=\"/lab/\">&nbsp;Lab Personnel&nbsp;</a></li>\\n\\t\\t\\t<li><a href=\"https://www.wiki.ed.ac.uk/display/BlaxterLab/\">&nbsp;Lab Wiki&nbsp;</a></li>\\n\\t\\t\\t</ul>\\n\\t\\t\\t</div>\\n\\t\\t\\t<!-- end of horizontal List 1-->\\n\\t\\t\\t\\n\\t\\t</td>\\n\\t</tr>\\n    <tr>\\n\\t\\t<td align=\"center\">\\n\\t\\t\\t<!-- horizontal List 2-->\\n\\t\\t\\t<div id=\"navigation\">\\n\\t\\t\\t<ul>\\n            <li><a href=\"/bioinformatics/databases.shtml\">&nbsp;Genomics Databases&nbsp;</a></li>\\n\\t\\t\\t<li><a href=\"/nembase4/\">&nbsp;NEMBASE4&nbsp;</a></li>\\n\\t\\t\\t<li><a href=\"http://www.tardigrades.org/\">&nbsp;Tardigrada: <em>Hypsibius dujardini</em>&nbsp;</a></li>\\n\\t\\t\\t<li><a href=\"http://www.earthworms.org/\">&nbsp;Earthworm: <em>Lumbricus rubellus</em>&nbsp;</a></li>\\n\\t\\t\\t<li><a href=\"/NeglectedGenomes/MOLLUSCA/\">&nbsp;MolluscDB&nbsp;</a></li>\\n\\t\\t\\t<li><a href=\"/NeglectedGenomes/ARTHROPODA/\">&nbsp;ArthropodDB&nbsp;</a></li>\\n\\t\\t\\t<li><a href=\"/NeglectedGenomes/\">&nbsp;other \"Neglected Genomes\"&nbsp;</a></li>\\n\\t\\t\\t</ul>\\n\\t\\t\\t</div>\\n\\t\\t\\t<!-- end of horizontal List 2-->\\n\\t\\t</td>\\n\\t</tr>\\n\\t<tr>\\n\\t\\t<td bgcolor=\"#FFFFFF\" height=\"1\">\\n\\t\\t</td>\\n    </tr>\\n</table>\\n\\n<!-- Table 3: To contain the CONTENT-->\\n<table width=100%>\\n\\t<tr>\\n\\t\\t<td width=1%>\\n\\t\\t</td>\\n\\t\\t<td width=90%>\\n\\t\\t\\t<!-- Content table-->\\n            <table align=\"left\" bgcolor=\"#FFFFFF\" padding=\"4\" width=\"100%\"  valign=\"top\">\\n\\t\\t\\t\\t<tr>\\n\\t\\t\\t\\t\\t<td width=10>\\n                    </td>\\n                    <td>\\n\\n\\n<!-- InstanceBeginEditable name=\"Bodyeditregion\" -->\\n<table>\\n\\t\\n\\t<tr>\\n<td width=\"852\">\\n<h1>Nematode &amp; Neglected Genomics </h1>\\n<p>The Blaxter lab website, databases and services, <em>version 4.0</em><br />\\nPlease use the navigation bars above to tour this site</p>\\n</td>\\n    <td width=\"645\"><div align=\"center\">\\n      <p align=\"right\" class=\"h1green\"><a href=\"nembase4/\">NEMBASE4</a></p>\\n      <p align=\"right\">NEMBASE is a comprehensive Nematode Transcriptome Database <br />\\n        including 63 nematode species, over 600,000 ESTs and over 250,000 proteins.<br />\\n      </p>\\n      </div></td>\\n  </tr>\\n</table>\\n<hr />\\n<table width=\"100%\" border=\"0\" cellpadding=\"4\" cellspacing=\"0\">\\n\\n\\t<tr height=\"1\">\\n    \\t<td width=\"105\" bgcolor=\"#B9B7B7\"> </td>\\n\\t\\t<td width=\"10\" bgcolor=\"#B9B7B7\"></td>\\n\\t\\t<td width=\"532\" bgcolor=\"#B9B7B7\"> </td>\\n\\t\\t<td width=\"830\" bgcolor=\"#B9B7B7\"> </td>\\n\\t</tr>\\n\\t\\n     <tr bgcolor=\"#FFE2B5\">\\n\\t\\t <td><div align=\"right\"><em>June 2012  </em></div></td>\\n\\t\\t <td>&nbsp;</td>\\n\\t\\t <td class=\"h2black\"><strong>Postdoc position available in the Blaxter lab:<br />\\n\\t\\t   Genome evolution in root knot nematodes\\n</strong></td>\\n\\t\\t <td class=\"h4grey\">\\n\\t \\t \\t<table border=\"0\" cellspacing=\"0\" cellpadding=\"0\">\\n         \\t\\t<tr>\\n\\t\\t\\t\\t\\t<td>&nbsp;</td>\\n\\t\\t\\t\\t\\t<td><img src=\"nembase4/species/MIC.jpg\" alt=\"M incognita\" width=\"100\" height=\"70\"/><br /><img src=\"nembase4/species/MHC.jpg\" alt=\"M hapla\" width=\"100\" height=\"80\" /></td>\\n\\t\\t\\t\\t\\t<td>&nbsp;</td>\\n\\t\\t\\t   \\t\\t<td><p>A 3 yr postdoctoral position is available in the Blaxter group, in association with Dr David Lunt (Hull). <a href=\"research/NERCMeloidogyne/index.shtml\">The project</a> will use whole genome sequencing of Meloidogyne root knot nematodes to investigate the  dynamics of genome evolution under different reproductive modes (asexuality versus sexuality). The <a href=\"research/NERCMeloidogyne/EdinburghPDRA.shtml\">Edinburgh position</a> will have core respoonsibility for assembly and annotation of over a dozen genomes, and also in analysis of these genomes for phylogenetic patterns associated with sexual mode. </p>\\n\\t\\t\\t   \\t\\t  <p>Closing date for applications 09 July 2012; start date Aug 2012... </p>\\n\\t\\t\\t   \\t\\t  <p>More information is available from, and applications should be made through, the University Jobs website: <a href=\"http://www.jobs.ed.ac.uk/vacancies/index.cfm?fuseaction=vacancies.detail&amp;vacancy_ref=3015830&amp;go=GO\">http://www.jobs.ed.ac.uk/vacancies/index.cfm?fuseaction=vacancies.detail&amp;vacancy_ref=3015830&amp;go=GO</a> </p></td>\\n         \\t\\t</tr>\\n\\t\\t\\t</table>\\t\\t</td>\\n\\t</tr>\\n\\t\\n       <tr bgcolor=\"#FBFFAB\">\\n\\t\\t <td><div align=\"right\"><em>June 2012  </em></div></td>\\n\\t\\t <td>&nbsp;</td>\\n\\t\\t <td class=\"h2black\"><strong>The <em>Heliconius</em> genome: <br />\\n\\t\\t   adaptive introgression in butterfly wing patterns  </strong></td>\\n\\t\\t <td class=\"h4grey\">\\n\\t \\t \\t<table border=\"0\" cellspacing=\"0\" cellpadding=\"0\">\\n         \\t\\t<tr>\\n\\t\\t\\t\\t\\t<td>&nbsp;</td>\\n\\t\\t\\t\\t\\t<td><img src=\"images/IMG_3842.jpg\" alt=\"Heliconius melpomene from Chris Jiggins\" width=\"100\" height=\"68\"/></td>\\n\\t\\t\\t\\t\\t<td>&nbsp;</td>\\n\\t\\t\\t   \\t\\t<td><p><em>Heliconius </em>butterflies are key models for the study of evolution in the wild. We have worked with colleagues across the globe to sequence and annotate the genome of the postman butterfly <em>Heliconius melpomene melpomene</em>, and to use this genome to reveal the evolutionary history of the butterflies and of the genetic loci that control their mimetic wing patterns. John Davey, a BBSRC- and NERC-funded postdoc in the lab, worked on the sequencing and genetic map, and much of the data was generated by the <a href=\"http://genepool.bio.ed.ac.uk\">GenePool</a>. The manuscript is open access. <a href=\"http://www.ed.ac.uk/news/all-news/160512-butterfly\">University press release </a></p>\\n\\t\\t\\t   \\t\\t  <p>The Heliconius Genome Consortium 2012 Butterfly genome reveals promiscuous exchange of mimicry adaptations among species\\n\\t\\t\\t   \\t\\t    <br />\\n\\t\\t\\t   \\t\\t    <a href=\"http://www.nature.com/nature/journal/vaop/ncurrent/full/nature11041.html\">http://www.nature.com/nature/journal/vaop/ncurrent/full/nature11041.html</a> doi:10.1038/nature11041<br />\\n\\t\\t\\t   \\t\\t      <a href=\"http://www.ed.ac.uk/news/all-news/160512-butterfly\"></a></p></td>\\n\\t\\t\\t \\t</tr>\\n\\t\\t\\t</table>\\t\\t</td>\\n\\t</tr>\\n\\t\\n\\t<tr bgcolor=\"#DBF3FF\">\\n\\t\\t <td><div align=\"right\"><em>June 2012  </em></div></td>\\n\\t\\t <td>&nbsp;</td>\\n\\t\\t <td class=\"h2black\">Nuclear weapons <em>or</em> biological diversity</td>\\n\\t\\t <td class=\"h4grey\">\\n\\t \\t \\t<table border=\"0\" cellspacing=\"0\" cellpadding=\"0\">\\n         \\t\\t<tr>\\n\\t\\t\\t\\t\\t<td>&nbsp;</td>\\n\\t\\t\\t\\t\\t<td><img src=\"images/Trident.jpg\" alt=\"applerot\" width=\"80\" height=\"100\" /><br />\\n\\t\\t\\t\\t\\t  </td>\\n\\t\\t\\t\\t\\t<td>&nbsp;</td>\\n\\t\\t\\t   \\t\\t<td><p>Mark Blaxter gave a seminar to the Academic Block blockade of the Faslane/Coulport nuclear submarine base, part of <a href=\"http://www.faslane365.org/\">Faslane 365 Year of Action</a>, in 2006-7. The proceedings of the Academic Block symposium held at Faslane have now been published: <a href=\"http://www.lulu.com/shop/stellan-vinthagen-and-justin-kenrick-and-kelvin-mason/tackling-trident/paperback/product-20212154.html\">Tackling Trident. Vindhagen, Kendrick & Mason, eds</a></p>\\n\\t\\t\\t   \\t\\t  <p>My contribution is available here: <a href=\"downloads/publications/2012/Blaxter_2012_TacklingTrident.pdf\">Seeing the Unseen Animal</a></p>\\n\\t\\t\\t   \\t\\t  </td>\\n         \\t\\t</tr>\\n\\t\\t\\t</table>\\t\\t</td>\\n\\t</tr>\\n\\t\\n\\t<tr bgcolor=\"#E4FFC3\">\\n\\t\\t <td><div align=\"right\"><em>June 2012  </em></div></td>\\n\\t\\t <td>&nbsp;</td>\\n\\t\\t <td class=\"h2black\">The worm in the world</td>\\n\\t\\t <td class=\"h4grey\">\\n\\t \\t \\t<table border=\"0\" cellspacing=\"0\" cellpadding=\"0\">\\n         \\t\\t<tr>\\n\\t\\t\\t\\t\\t<td>&nbsp;</td>\\n\\t\\t\\t\\t\\t<td><img src=\"downloads/collaboration/BMCBiologyApples/Orsay_apple_rot.jpg\" alt=\"applerot\" width=\"100\" height=\"100\" /><br />\\n\\t\\t\\t\\t\\t  </td>\\n\\t\\t\\t\\t\\t<td>&nbsp;</td>\\n\\t\\t\\t   \\t\\t<td><p>With Dee Denver, Mark Blaxter has written a short commentary on an exciting paper from Marie-Anne F\\xc3\\xa9lix and colleagues describing wild ecology in <em>C. elegans. </em>The BMC Biology article is here: <a href=\"http://www.biomedcentral.com/1741-7007/10/59/abstract\">http://www.biomedcentral.com/1741-7007/10/59/abstract</a></p>\\n\\t\\t\\t   \\t\\t  <p>Our short commntary is here: <a href=\"http://www.biomedcentral.com/1741-7007/10/57\">http://www.biomedcentral.com/1741-7007/10/57</a> BMC Biology 2012, 10:57 doi:10.1186/1741-7007-10-57</p>\\n\\t\\t\\t   \\t\\t  </td>\\n         \\t\\t</tr>\\n\\t\\t\\t</table>\\t\\t</td>\\n\\t</tr>\\n\\t\\n\\t<tr height=\"1\">\\n    \\t<td width=\"105\" bgcolor=\"#B9B7B7\"> </td>\\n\\t\\t<td width=\"10\" bgcolor=\"#B9B7B7\"></td>\\n\\t\\t<td width=\"532\" bgcolor=\"#B9B7B7\"> </td>\\n\\t\\t<td width=\"830\" bgcolor=\"#B9B7B7\"> </td>\\n\\t</tr>\\n\\n    <tr bgcolor=\"#99FFFF\">\\n\\t\\t <td><div align=\"right\"><em>May 2012  </em></div></td>\\n\\t\\t <td>&nbsp;</td>\\n\\t\\t <td class=\"h2black\"><strong>Salmon genetic mapping with RAD </strong></td>\\n\\t\\t <td class=\"h4grey\">\\n\\t \\t \\t<table border=\"0\" cellspacing=\"0\" cellpadding=\"0\">\\n         \\t\\t<tr>\\n\\t\\t\\t\\t\\t<td>&nbsp;</td>\\n\\t\\t\\t\\t\\t<td><img src=\"http://upload.wikimedia.org/wikipedia/commons/d/db/SalmonoidsBergeau.jpg\" alt=\"salmon from Wikimedia\" width=\"100\" height=\"92\"/></td>\\n\\t\\t\\t\\t\\t<td>&nbsp;</td>\\n\\t\\t\\t   \\t\\t<td><p>We are workingwith Ross Houston and colleagues in developing RAD sequencing markers and maps for farmed salmon. The first paper from this project has just been published.</p>\\n\\t\\t\\t   \\t\\t  <p>Characterisation of QTL-Linked and Genome-Wide Restriction Site-Associated DNA (RAD) markers in farmed Atlantic salmon<br />\\n\\t\\t\\t   \\t\\t    Ross D. Houston, John W. Davey, Stephen C. Bishop, Natalie R. Lowe, Jose C. Mota-Velasco, Alastair Hamilton, Derrick R. Guy, Alan E. Tinch, Marian L.Thomson, Mark L. Blaxter, Karim Gharbi, James E. Bron and John B. Taggart<br />\\n\\t\\t\\t   \\t\\t  BMC Genomics 2012 </p>\\n\\t\\t\\t   \\t\\t  <p><a href=\"http://www.biomedcentral.com/1471-2164/13/244/abstract\">http://www.biomedcentral.com/1471-2164/13/244/abstract</a> doi:10.1186/1471-2164-13-244</p></td>\\n\\t\\t\\t \\t</tr>\\n\\t\\t\\t</table>\\t\\t</td>\\n\\t</tr>\\n\\n\\t<tr height=\"1\">\\n    \\t<td width=\"105\" bgcolor=\"#B9B7B7\"> </td>\\n\\t\\t<td width=\"10\" bgcolor=\"#B9B7B7\"></td>\\n\\t\\t<td width=\"532\" bgcolor=\"#B9B7B7\"> </td>\\n\\t\\t<td width=\"830\" bgcolor=\"#B9B7B7\"> </td>\\n\\t</tr>\\n\\n<tr bgcolor=\"#CCFFCC\">\\n\\t\\t <td><div align=\"right\"><em>April 2012  </em></div></td>\\n\\t\\t <td>&nbsp;</td>\\n\\t\\t <td class=\"h2black\"><strong>The phylogenetics of swim bladder nematode parasites of eels (<em>Anguillicolidae</em>)  </strong></td>\\n\\t\\t <td class=\"h4grey\">\\n\\t \\t \\t<table border=\"0\" cellspacing=\"0\" cellpadding=\"0\">\\n         \\t\\t<tr>\\n\\t\\t\\t\\t\\t<td>&nbsp;</td>\\n\\t\\t\\t\\t\\t<td><img src=\"images/cover.jpg\" alt=\"Anguilicolla crassus\" width=\"100\" height=\"100\" /></td>\\n\\t\\t\\t\\t\\t<td>&nbsp;</td>\\n\\t\\t\\t   \\t\\t<td><p>Dominik Laetsch, a Diploma thesis student in the lab seconded from KIT, Karlsruhe, Germany, has produced a definitive phylogenetic analysis of the Anguillicolidae, important invasive nematode parasites of eels. It is published in BMC Evolutionary Biology.</p>\\n\\t\\t\\t   \\t\\t  <p>The phylogenetics of Anguillicolidae (Nematoda: Anguillicolidea), swimbladder parasites of eels<br />\\n\\t\\t\\t   \\t\\t    Dominik R Laetsch, Emanuel G Heitlinger, Horst Taraschewski, Steven A Nadler and Mark L Blaxter<br />\\n\\t\\t\\t   \\t\\t    <a href=\"http://www.biomedcentral.com/1471-2148/12/60/abstract\">BMC Evolutionary Biology 2012, 12:60</a> doi:10.1186/1471-2148-12-60\\t\\t\\t   \\t\\t  </p>\\t\\t\\t   \\t\\t  </td>\\n\\t\\t\\t \\t</tr>\\n\\t\\t\\t</table>\\t\\t</td>\\n\\t</tr>\\n\\n\\t<tr height=\"1\">\\n    \\t<td width=\"105\" bgcolor=\"#B9B7B7\"> </td>\\n\\t\\t<td width=\"10\" bgcolor=\"#B9B7B7\"></td>\\n\\t\\t<td width=\"532\" bgcolor=\"#B9B7B7\"> </td>\\n\\t\\t<td width=\"830\" bgcolor=\"#B9B7B7\"> </td>\\n\\t</tr>\\n\\n    <tr bgcolor=\"#FFCCFF\">\\n\\t\\t <td><div align=\"right\"><em>February 2012 </em></div></td>\\n\\t\\t <td>&nbsp;</td>\\n\\t\\t <td class=\"h2black\"><strong>Nematode transcriptomics</strong><br /></td>\\n\\t\\t <td class=\"h4grey\">\\n\\t \\t \\t<table border=\"0\" cellspacing=\"0\" cellpadding=\"0\">\\n         \\t\\t<tr>\\n\\t\\t\\t\\t\\t<td>&nbsp;</td>\\n\\t\\t\\t\\t\\t<td><img src=\"/images/acrobelesrainbow.gif\" alt=\"Bang logo\" width=\"73\" height=\"92\" /></td>\\n\\t\\t\\t\\t\\t<td>&nbsp;&nbsp;&nbsp;</td>\\n\\t\\t\\t   \\t\\t<td><p>We have published a short review of transcriptomic and genomic studies across the phylum Nematoda in a special issue of Parasite immunology.</p>\\n\\t\\t\\t   \\t\\t  <p>Genomics and transcriptomics across the diversity of the Nematoda<br />\\n\\t\\t\\t   \\t\\t  M. BLAXTER, S. KUMAR, G. KAUR, G. KOUTSOVOULOS and B. ELSWORTH<br />\\n\\t\\t\\t   \\t\\t  Parasite Immunology, Vol 34, Issue 3, 108 -120 (Issue published online 13 Feb 2012)</p>\\n\\t\\t\\t   \\t\\t  <p class=\"h3blackleft\">Many apologies - we cannot afford to make this open access.  </p></td>\\n\\t\\t\\t \\t</tr>\\n\\t\\t\\t</table>\\t\\t</td>\\n\\t</tr>\\n\\n\\t<tr height=\"1\">\\n    \\t<td width=\"105\" bgcolor=\"#B9B7B7\"> </td>\\n\\t\\t<td width=\"10\" bgcolor=\"#B9B7B7\"></td>\\n\\t\\t<td width=\"532\" bgcolor=\"#B9B7B7\"> </td>\\n\\t\\t<td width=\"830\" bgcolor=\"#B9B7B7\"> </td>\\n\\t</tr>\\n    <tr bgcolor=\"#FFFFCC\">\\n\\t\\t <td><div align=\"right\"><em>January 2012 </em></div></td>\\n\\t\\t <td>&nbsp;</td>\\n\\t\\t <td class=\"h2black\"><strong>959 nematode genomes initiative </strong><br /></td>\\n\\t\\t <td class=\"h4grey\">\\n\\t \\t \\t<table border=\"0\" cellspacing=\"0\" cellpadding=\"0\">\\n         \\t\\t<tr>\\n\\t\\t\\t\\t\\t<td>&nbsp;</td>\\n\\t\\t\\t\\t\\t<td><img src=\"/images/acrobelesrainbow.gif\" alt=\"Bang logo\" width=\"73\" height=\"92\" /></td>\\n\\t\\t\\t\\t\\t<td>&nbsp;&nbsp;&nbsp;</td>\\n\\t\\t\\t   \\t\\t<td><p>The <a href=\"http://www.nematodegenomes.org/\">959 nematode genomes Initiative</a> aims to support the wide community of researchers generating and analysisng nematode genomic resources. Sujai Kumar has built a community wiki for coordination and dissemination of the advances made in this initiative, and here (the databases and resources issue of NAR) we describe the core function of the semanticMediaWiki system we have implemented, and its content. We also wrote a short review in the new journal &quot;Worm&quot; we describe the current state-of-play of the 959 nematode genomes initiative, and place the current work in the context of the wider span of nematode diversit</p>\\n\\t\\t\\t   \\t\\t  <p>959 Nematode Genomes: a semantic wiki for coordinating sequencing projects<br />\\n\\t\\t\\t   \\t\\t    Sujai Kumar, Philipp H. Schiffer,  Mark Blaxter<br />Nucleic Acids Research, 40, D1295-D1300.<br />\\n\\t\\t\\t   \\t\\t    <a href=\"http://nar.oxfordjournals.org/content/40/D1/D1295.abstract\">It is Open Access at http://nar.oxfordjournals.org/content/40/D1/D1295.abstract</a></p>\\n\\t\\t\\t   \\t\\t  <p>Toward 959 nematode genomes<br />\\n\\t\\t\\t   \\t\\t    Kumar S, Koutsovoulos G, Kaur G, Blaxter M<br />\\n\\t\\t\\t   \\t\\t    Worm 2012, 1.<br />\\n\\t\\t   \\t\\t      <a href=\"http://www.landesbioscience.com/journals/worm/article/19046/\">It is Open Access at http://www.landesbioscience.com/journals/worm/article/19046/</a></p>\\t\\t\\t   \\t\\t  </td>\\n\\t\\t\\t \\t</tr>\\n\\t\\t\\t</table>\\t\\t</td>\\n\\t</tr>\\n\\n    <tr bgcolor=\"#FFFFCC\">\\n\\t\\t <td><div align=\"right\"><em>January 2012 </em></div></td>\\n\\t\\t <td>&nbsp;</td>\\n\\t\\t <td class=\"h2black\"><strong>Bumblebee transcriptome  </strong><br /></td>\\n\\t\\t <td class=\"h4grey\">\\n\\t \\t \\t<table border=\"0\" cellspacing=\"0\" cellpadding=\"0\">\\n         \\t\\t<tr>\\n\\t\\t\\t\\t\\t<td>&nbsp;</td>\\n\\t\\t\\t\\t\\t<td><img src=\"NeglectedGenomes/ARTHROPODA/bombus/BTC.jpg\" alt=\"Bang logo\" width=\"153\" height=\"115\" /></td>\\n\\t\\t\\t\\t\\t<td>&nbsp;&nbsp;&nbsp;</td>\\n\\t\\t\\t   \\t\\t<td><p>In collaboration with Joe Colgan (Trinity, Dublin) and colleagues we have generated a 454 sequencing based transcriptome of life cycle stages and castes of the bumble bee <em>Bombus terrestris</em>.  A manuscript describing this work has been published in BMC Genomics.</p>\\n\\t\\t\\t   \\t\\t  <p>Polyphenism in social insects: insights from a transcriptome-wide analysis of gene expression in the life stages of the key pollinator, Bombus terrestris <br />\\n\\t\\t\\t   \\t\\t    Thomas J Colgan, James C Carolan, Stephen J Bridgett, Seirian Sumner, Mark L Blaxter and Mark JF Brown<br />\\n\\t\\t\\t   \\t\\t    BMC Genomics 2011, 12:623 doi:10.1186/1471-2164-12-623</p>\\n\\t\\t\\t\\t\\t  <p><a href=\"http://www.biomedcentral.com/1471-2164/12/623\">It is Open Access at http://www.biomedcentral.com/1471-2164/12/623</a>\\t\\t\\t   \\t\\t  </td>\\n\\t\\t\\t \\t</tr>\\n\\t\\t\\t</table>\\t\\t</td>\\n\\t</tr><tr height=\"1\">\\n    <td bgcolor=\"#B9B7B7\"> <div align=\"right\"></div></td>\\n\\t<td bgcolor=\"#B9B7B7\">&nbsp;</td>\\n\\t<td bgcolor=\"#B9B7B7\"> </td>\\n\\t<td bgcolor=\"#B9B7B7\"> </td>\\n  </tr>\\n\\n  <tr>\\n    <td bgcolor=\"#FFCC99\"><div align=\"right\"><em> 2011 and earlier</em> </div></td>\\n    <td bgcolor=\"#FFCC99\">&nbsp;</td>\\n    <td bgcolor=\"#FFCC99\" class=\"h2black\"><strong><em><a href=\"lab/oldnews.shtml\">OLD NEWS </a></em></strong></td>\\n    <td bgcolor=\"#FFCC99\" class=\"h4grey\">previous newsflashes from us...</td>\\n  </tr>\\n  <tr height=\"1\">\\n    <td bgcolor=\"#B9B7B7\"> </td>\\n\\t<td bgcolor=\"#B9B7B7\"></td>\\n\\t<td bgcolor=\"#B9B7B7\"> </td>\\n\\t<td bgcolor=\"#B9B7B7\"> </td>\\n  </tr>\\n</table>\\n<hr />\\n\\n<table border=\"0\">\\n  <tr border=\"0\">\\n        <td width=\"180\" height=\"25\" bgcolor=\"#FFFFFF\" class=\"h6black\"><a href=\"http://www.nematodegenomes.org/\">1000 nematode genomes</a></td>\\n        <td bgcolor=\"#FFFFFF\">&nbsp;</td>\\n        <td bgcolor=\"#FFFFFF\" class=\"h6black\">the 1000 nematode genomes initiative</td>\\n      </tr>\\n      <tr border=\"0\">\\n        <td height=\"25\" bgcolor=\"#FFFFFF\" class=\"h6black\">\\n          <a href=\"bioinformatics/databases.shtml\">genomics databases</a>        </td>\\n        <td width=\"5\" bgcolor=\"#FFFFFF\">&nbsp;        </td>\\n        <td bgcolor=\"#FFFFFF\" class=\"h6black\">genomic and transcriptomic databases for nematodes and other metazoan phyla        </td>\\n      </tr>\\n      <tr>\\n        <td height=\"25\" bgcolor=\"#FFFFFF\" class=\"h6black\">\\n          <a href=\"bioinformatics/index.shtml\">software tools</a>        </td>\\n        <td width=\"5\" bgcolor=\"#FFFFFF\">&nbsp;        </td>\\n        <td bgcolor=\"#FFFFFF\" class=\"h6black\">freely downloadable tools for expressed sequence tag analysis, DNA barcode analysis and phylogenomics        </td>\\n      </tr>\\n      <tr>\\n        <td height=\"25\" bgcolor=\"#FFFFFF\" class=\"h6black\">\\n          <a href=\"lab/index.shtml\">research projects</a>        </td>\\n        <td width=\"5\" bgcolor=\"#FFFFFF\">&nbsp;        </td>\\n        <td bgcolor=\"#FFFFFF\" class=\"h6black\">the work we do on the genomics, evolution and diversity of animals        </td>\\n      </tr>\\n      <tr>\\n        <td height=\"25\" bgcolor=\"#FFFFFF\" class=\"h6black\"><a href=\"http://ciie.bio.ed.ac.uk/\">CIIE</a></td>\\n        <td bgcolor=\"#FFFFFF\">&nbsp;</td>\\n        <td bgcolor=\"#FFFFFF\" class=\"h6black\">The Blaxter lab is part of the Centre for Infection Immunity and Evolution of the University of Edinburgh </td>\\n      </tr>\\n      <tr>\\n        <td height=\"25\" bgcolor=\"#FFFFFF\" class=\"h6black\">\\n        \\t<a href=\"http://genepool.bio.ed.ac.uk/\">GenePool</a>        </td>\\n        <td width=\"5\" bgcolor=\"#FFFFFF\">&nbsp;        </td>\\n        <td bgcolor=\"#FFFFFF\" class=\"h6black\"><a href=\"http://genepool.bio.ed.ac.uk/\">The GenePool  Genomics Facility</a> and the \\n        \\t  <a href=\"http://nbaf.nerc.ac.uk/\">NERC NBAF sequencing facility</a></td>\\n      </tr>\\n    </table>\\n<hr />\\n<p class=\"h4grey\">The website is continuously &quot;under reconstruction&quot; - please email mark.blaxter-at-ed.ac.uk if you find a significant broken link. </p>\\n<p class=\"h4grey\">BaNG website, version 4.01, May 1st 2010</p>\\n\\t    <!-- InstanceEndEditable -->\\n\\n                    </td>\\n\\t\\t\\t\\t\\t<td width=20>\\n                    </td>\\n                    <td valign=\"top\" width=\"120\" align=\"center\">\\n                    \\t<br />\\n                    \\t<table bgcolor=\"#CCCCCC\" border=1 bordercolor=\"#333333\" padding=\"3\">\\n                    \\t\\t<tr>\\n                        \\t\\t<td align=\"center\" valign=\"top\" width=\"120\"style=\"h2centred\">\\n                    \\t\\t\\t\\tWebsite Highlight\\n                    \\t\\t\\t\\t<br>\\n\\n<img src=\"/webtech/random/NEMATODA/TCC.jpg\" alt=\"Toxocara canis\" width=\"150\" height=\"150\" />\\n<br><h4>\\nThe dog parasitic nematode <em>Toxocara canis</em>.\\n<br>\\n<em>T. canis</em> is an ascarid nematode. Ascarids are gut and tissue parasites of a wide range of vertebrates, including humans. This species infects dogs (and is the main reason why puppies should be \"wormed\"). It is important medically as its larvae can infect humans and cause blindness. See <a href=\"http://www.nematodes.org/nembase4/\">NEMBASE4</a> for analyses of ESTs from this parasite and many other nematodes.\\n</h4>\\n\\n                    \\t\\t\\t</td>\\n                       \\t  </tr>\\n                    \\t</table>\\n                    </td>\\n\\t\\t\\t\\t\\t<td width=5>\\n                    </td>\\n\\t\\t\\t\\t</tr>\\n\\t\\t\\t</table>\\n\\t\\t</td>\\n\\t\\t<td width=1% bgcolour=\"#999999\" align=\"center\" valign=\"top\">\\n\\t\\t</td>\\n  </tr>\\n</table>\\n\\n<!-- Table 4: Wrapup comments-->\\n<table border=0 bgcolor=\"#999999\" width=100%>  \\n\\t<tr>\\n    \\t<td bgcolor=\"#FFFFFF\" height=\"1\">\\n    \\t</td>\\n    </tr>\\n    <tr height=\"15\">\\n    \\t<td align=center>\\n\\t\\t\\t<h3>[nematodes.org v4.0] the content of these pages is copyright Mark Blaxter and colleagues. Contact the webmaster if there are problems.\\n\\t\\t\\t</h3>\\n\\t\\t</td>\\n\\t</tr>\\n</table>\\n</body>\\n<!-- InstanceEnd --></html>\\n'\n"
       ]
      }
     ],
     "prompt_number": 1
    },
    {
     "cell_type": "markdown",
     "metadata": {},
     "source": [
      "Be careful though, you can easily overwhelm a server by accidentally doing something like this:"
     ]
    },
    {
     "cell_type": "code",
     "collapsed": true,
     "input": [
      "import urllib.request\n",
      "for i in range(0,100000):\n",
      "    f = urllib.request.urlopen('http://example.com/some-large-page.html')\n",
      "    result = f.read()"
     ],
     "language": "python",
     "metadata": {},
     "outputs": []
    },
    {
     "cell_type": "markdown",
     "metadata": {},
     "source": [
      "Two safety tips:\n",
      "\n",
      "- pause between requests (using `time.sleep()`)\n",
      "- print something to the screen for every request"
     ]
    },
    {
     "cell_type": "code",
     "collapsed": true,
     "input": [
      "import urllib.request\n",
      "import time\n",
      "\n",
      "for i in range(0,100000):\n",
      "    print('fetching webpage on iteration ' + i)\n",
      "    f = urllib.request.urlopen('http://example.com/some-large-page.html')\n",
      "    result = f.read()\n",
      "    # wait for 5 seconds in between requests\n",
      "    time.sleep(5)"
     ],
     "language": "python",
     "metadata": {},
     "outputs": []
    },
    {
     "cell_type": "markdown",
     "metadata": {},
     "source": [
      "## Decoding the result\n",
      "\n",
      "Because Python does not know what kind of data will be returned by the web server, the value that you get back from `f.read()` is a string of bytes. To turn it into a normal text string, call `.decode('utf-8')` on the result. It's normal to do the `read` and `decode` in one step:\n",
      "\n",
      "    result = f.read().decode('utf-8')\n"
     ]
    },
    {
     "cell_type": "markdown",
     "metadata": {},
     "source": [
      "# Exercises\n",
      "\n",
      "The NCBI Efetch service lets you download a FASTA-formatted dna sequence by getting a URL like this:\n",
      "\n",
      "    http://eutils.ncbi.nlm.nih.gov/entrez/eutils/efetch.fcgi?db=nucleotide&id=12345&rettype=fasta\n",
      "\n",
      "where `12345` is the accession number of the sequence you are trying to get. \n",
      "\n",
      "**1.** Write a script that downloads and saves FASTA-formatted sequences from accession numbers supplied by the user.\n",
      "\n",
      "The script can accept accession numbers in different ways:\n",
      "\n",
      "- it can prompt the user to type them in \n",
      "- in can read them from a file with a specific name\n",
      "- it can prompt the user for the name of a file and read them from that file\n",
      "- it can take a filename on the command line and read them from that\n",
      "- it can take a list of accession numbers on the command line\n",
      "\n",
      "Pick a few of these options and implement them in your script. Can you make a script that allows all five? You might need to supply some helpful messages to the user. "
     ]
    },
    {
     "cell_type": "code",
     "collapsed": false,
     "input": [],
     "language": "python",
     "metadata": {},
     "outputs": []
    }
   ],
   "metadata": {}
  }
 ]
}