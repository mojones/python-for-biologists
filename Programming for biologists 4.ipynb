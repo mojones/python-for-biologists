{
 "metadata": {
  "name": "Programming for biologists 4"
 },
 "nbformat": 3,
 "nbformat_minor": 0,
 "worksheets": [
  {
   "cells": [
    {
     "cell_type": "markdown",
     "metadata": {},
     "source": [
      "##If statements\n",
      "\n",
      "Any non-trivial program we want to write will need some sort of **flow control**, i.e. a way of deciding what to do next. To do this we need an `if` statement, which will execute the code in the block only if some condition is true.\n",
      "\n",
      "    if test:\n",
      "        do_something\n",
      "\n",
      "here, the condition is `test` (see below for examples of the sort of thing that can go here) and the block is `do_something`.\n",
      "    \n",
      "Notice that:\n",
      "\n",
      "- just like `def` and `for ... in ...` the `if` line ends with :\n",
      "- and the body is indented\n",
      "\n",
      "\n",
      "`test` can be lots of different things; here are a few examples.\n",
      "\n",
      "Note: be very careful of the difference between the following two bits of code:\n",
      "\n",
      "    if number == 3\n",
      "\n",
      "    if number = 3\n",
      "\n",
      "The top one, with two equals signs, will check if the variable `number` is equal to 3. The bottom one will **assign** 3 to the variable `number` and will always evaluate to true. It is easy to get these two confused, so watch out - this simple type causes a lot of bugs.\n",
      "\n",
      "Sometimes you will see comparisons written the other way round:\n",
      "\n",
      "    if 3 == number\n",
      "\n",
      "to guard against this type of bug, because if we leave out one of the equals signs we get this:\n",
      "\n",
      "    if 3 = number\n",
      "\n",
      "which causes Python to stop and report an error. Fans of the _Star Wars_ movie franchise will realise why this type of statement is often called a **Yoda condition**."
     ]
    },
    {
     "cell_type": "code",
     "collapsed": false,
     "input": [
      "# compare two numbers - note that we use two equals signs\n",
      "number = 3\n",
      "if number == 3:\n",
      "    print('yes')"
     ],
     "language": "python",
     "metadata": {},
     "outputs": [
      {
       "output_type": "stream",
       "stream": "stdout",
       "text": [
        "yes"
       ]
      }
     ],
     "prompt_number": 1
    },
    {
     "cell_type": "code",
     "collapsed": false,
     "input": [
      "# greater than, less than\n",
      "number = 5\n",
      "if number > 3:\n",
      "    print('yes')"
     ],
     "language": "python",
     "metadata": {},
     "outputs": [
      {
       "output_type": "stream",
       "stream": "stdout",
       "text": [
        "yes"
       ]
      }
     ],
     "prompt_number": 2
    },
    {
     "cell_type": "code",
     "collapsed": false,
     "input": [
      "# compare strings\n",
      "name1 = 'martin'\n",
      "name2 = 'martin'\n",
      "if name1 == name2:\n",
      "    print('yes')"
     ],
     "language": "python",
     "metadata": {},
     "outputs": [
      {
       "output_type": "stream",
       "stream": "stdout",
       "text": [
        "yes"
       ]
      }
     ],
     "prompt_number": 5
    },
    {
     "cell_type": "code",
     "collapsed": false,
     "input": [
      "# ask if something is in a list\n",
      "accessions = ['ABC123', 'XYZ123', 'HIJ456']\n",
      "if 'ABC123' in accessions:\n",
      "    print('yes')"
     ],
     "language": "python",
     "metadata": {},
     "outputs": [
      {
       "output_type": "stream",
       "stream": "stdout",
       "text": [
        "yes"
       ]
      }
     ],
     "prompt_number": 6
    },
    {
     "cell_type": "code",
     "collapsed": false,
     "input": [
      "# functions are fine too, as long as they return the appropriate type\n",
      "# i.e. we can compare a function that returns a number to another number\n",
      "name = 'martin'\n",
      "if len(name) > 3:\n",
      "    print('yes')"
     ],
     "language": "python",
     "metadata": {},
     "outputs": [
      {
       "output_type": "stream",
       "stream": "stdout",
       "text": [
        "yes"
       ]
      }
     ],
     "prompt_number": 7
    },
    {
     "cell_type": "code",
     "collapsed": false,
     "input": [
      "# some methods return true/false\n",
      "name = 'martin'\n",
      "if name.startswith('m'):\n",
      "    print('yes')"
     ],
     "language": "python",
     "metadata": {},
     "outputs": [
      {
       "output_type": "stream",
       "stream": "stdout",
       "text": [
        "yes"
       ]
      }
     ],
     "prompt_number": 8
    },
    {
     "cell_type": "code",
     "collapsed": false,
     "input": [
      "# we can use and / or\n",
      "name = 'martin'\n",
      "if 3 < 5 and name.startswith('m'):\n",
      "    print('yes')\n",
      "    \n",
      "if 5 ==7 or name.endswith('n'):\n",
      "    print('yes')"
     ],
     "language": "python",
     "metadata": {},
     "outputs": [
      {
       "output_type": "stream",
       "stream": "stdout",
       "text": [
        "yes\n",
        "yes"
       ]
      }
     ],
     "prompt_number": 9
    },
    {
     "cell_type": "code",
     "collapsed": false,
     "input": [
      "# we can group to make complex expressions\n",
      "name = 'martin'\n",
      "if name.startswith('m') and (name.endswith('x') or len(name) > 3):\n",
      "    print('yes')"
     ],
     "language": "python",
     "metadata": {},
     "outputs": [
      {
       "output_type": "stream",
       "stream": "stdout",
       "text": [
        "yes"
       ]
      }
     ],
     "prompt_number": 10
    },
    {
     "cell_type": "code",
     "collapsed": false,
     "input": [
      "# Python also has True and False\n",
      "if True:\n",
      "    print('yes')"
     ],
     "language": "python",
     "metadata": {},
     "outputs": [
      {
       "output_type": "stream",
       "stream": "stdout",
       "text": [
        "yes"
       ]
      }
     ],
     "prompt_number": 11
    },
    {
     "cell_type": "markdown",
     "metadata": {},
     "source": [
      "##Else\n",
      "\n",
      "Here is a slight variation - in this case, we execute one block of code if the test is true, and another if it is false.\n",
      "\n",
      "    if test:\n",
      "        do_something\n",
      "    else:\n",
      "        do_something_else\n",
      "\n",
      "the `else` line ends with a colon and the `else` block is indented.\n",
      "\n",
      "This is very useful in combination with loops. \n",
      "\n",
      "Notice that we now have two levels of indentation. Everything that is indented by one tab is part of the `for` loop, and everything that is indented with two tabs is part of the `if-else`."
     ]
    },
    {
     "cell_type": "code",
     "collapsed": false,
     "input": [
      "accessions = ['jdh246', 'due945', 'pwl544', 'pwg546', 'qzj942']\n",
      "for acc in accessions:\n",
      "    print('one accession is ' + acc)\n",
      "    if acc.startswith('p'):\n",
      "        print('it starts with p!')\n",
      "    else:\n",
      "        print('it starts with some other letter')\n",
      "print('finished!')"
     ],
     "language": "python",
     "metadata": {},
     "outputs": [
      {
       "output_type": "stream",
       "stream": "stdout",
       "text": [
        "one accession is jdh246\n",
        "it starts with some other letter\n",
        "one accession is due945\n",
        "it starts with some other letter\n",
        "one accession is pwl544\n",
        "it starts with p!\n",
        "one accession is pwg546\n",
        "it starts with p!\n",
        "one accession is qzj942\n",
        "it starts with some other letter\n",
        "finished!"
       ]
      }
     ],
     "prompt_number": 12
    },
    {
     "cell_type": "markdown",
     "metadata": {},
     "source": [
      "##Regular expressions\n",
      "\n",
      "**Regular expressions** are a mini-language that let us describe patterns in strings. \n",
      "\n",
      "Unsurprisingly, this is very useful when we are dealing with sequence data!\n",
      "\n",
      "Two new things: first we must tell Python that we want to use regular expressions:\n",
      "\n",
      "    import re\n",
      "\n",
      "this tells Python to import the libraries that are responsible for regular expressions and it goes at the top of our program. \n",
      "\n",
      "Second, we will want to use a lot of special characters in regular expressions, so we use the letter **r** when we are writing them:\n",
      "\n",
      "    pattern = r'\\w\\w\\w\\d\\d'\n",
      "\n",
      "the **r** (for **raw**) tells python not to try to interpret any special characters in the string. Compare:"
     ]
    },
    {
     "cell_type": "code",
     "collapsed": false,
     "input": [
      "print('here is a line\\n\\n\\n\\nhere is another line')"
     ],
     "language": "python",
     "metadata": {},
     "outputs": [
      {
       "output_type": "stream",
       "stream": "stdout",
       "text": [
        "here is a line\n",
        "\n",
        "\n",
        "\n",
        "here is another line"
       ]
      }
     ],
     "prompt_number": 13
    },
    {
     "cell_type": "code",
     "collapsed": false,
     "input": [
      "print(r'here is a line\\n\\n\\n\\nhere is another line')"
     ],
     "language": "python",
     "metadata": {},
     "outputs": [
      {
       "output_type": "stream",
       "stream": "stdout",
       "text": [
        "here is a line\\n\\n\\n\\nhere is another line"
       ]
      }
     ],
     "prompt_number": 14
    },
    {
     "cell_type": "markdown",
     "metadata": {},
     "source": [
      "Once we have done these two things, we can write \n",
      "\n",
      "  re.search(pattern, string)\n",
      "\n",
      "and we will get back a result which will be true or false, so we can use it in an `if` statement."
     ]
    },
    {
     "cell_type": "code",
     "collapsed": false,
     "input": [
      "import re\n",
      "string = 'actgacgatgactgtgacg'\n",
      "pattern = r'atg'\n",
      "match = re.search(pattern, string)\n",
      "if match:                      \n",
      "    print('found')\n",
      "else:\n",
      "    print('did not find')"
     ],
     "language": "python",
     "metadata": {},
     "outputs": [
      {
       "output_type": "stream",
       "stream": "stdout",
       "text": [
        "found"
       ]
      }
     ],
     "prompt_number": 15
    },
    {
     "cell_type": "markdown",
     "metadata": {},
     "source": [
      "Regular expressions can be very complicated, here are some basics:\n",
      "\n",
      "- normal letters and words just match themselves\n",
      "- a dot . matches any character\n",
      "- a pipe | means either the left or right side\n",
      "- square brackets [] mean any of a set of characters\n",
      "- a plus + means match the preceding part 1 or more times\n",
      "- a star * means match the preceding part 0 or more times\n",
      "- a question mark ? means match the preceding part 0 or 1 times\n",
      "- curly brackets {} mean match the preceding part a specified number of times\n",
      "- caret ^ means the start of a string\n",
      "- dollar $ means the end of a string\n",
      "\n",
      "some examples: "
     ]
    },
    {
     "cell_type": "code",
     "collapsed": false,
     "input": [
      "import re\n",
      "\n",
      "accessions = ['jdh246', 'due945','doe933', 'pwl544', 'pwg546', 'qzj942']\n",
      "for acc in accessions:\n",
      "    print('looking at ' + acc)\n",
      "    if re.search(r'5', acc):                      \n",
      "        print('\\tcontains a 5')\n",
      "    if re.search(r'd.e', acc):                      \n",
      "        print('\\tcontains d.e')\n",
      "    if re.search(r'j|g', acc):                      \n",
      "        print('\\tcontains j or g')\n",
      "    # for this one we have to use brackets    \n",
      "    if re.search(r'(jdh|due)', acc):                      \n",
      "        print('\\tcontains jdh or due')\n",
      "    if re.search(r'd[ho]', acc):                      \n",
      "        print('\\tcontains d followed by either h or o')\n",
      "    if re.search(r'4+', acc):                      \n",
      "        print('\\tcontains 4 repeated one or more times')\n",
      "    if re.search(r'^d', acc):                      \n",
      "        print('\\tcontains d at the start of the string')\n",
      "    \n",
      "        "
     ],
     "language": "python",
     "metadata": {},
     "outputs": [
      {
       "output_type": "stream",
       "stream": "stdout",
       "text": [
        "looking at jdh246\n",
        "\tcontains j or g\n",
        "\tcontains jdh or due\n",
        "\tcontains d followed by either h or o\n",
        "\tcontains 4 repeated one or more times\n",
        "looking at due945\n",
        "\tcontains a 5\n",
        "\tcontains d.e\n",
        "\tcontains jdh or due\n",
        "\tcontains 4 repeated one or more times\n",
        "\tcontains d at the start of the string\n",
        "looking at doe933\n",
        "\tcontains d.e\n",
        "\tcontains d followed by either h or o\n",
        "\tcontains d at the start of the string\n",
        "looking at pwl544\n",
        "\tcontains a 5\n",
        "\tcontains 4 repeated one or more times\n",
        "looking at pwg546\n",
        "\tcontains a 5\n",
        "\tcontains j or g\n",
        "\tcontains 4 repeated one or more times\n",
        "looking at qzj942\n",
        "\tcontains j or g\n",
        "\tcontains 4 repeated one or more times"
       ]
      }
     ],
     "prompt_number": 16
    },
    {
     "cell_type": "markdown",
     "metadata": {},
     "source": [
      "###Things to remember about regular expressions\n",
      "\n",
      "There are lots of different ways to write the same pattern. \n",
      "\n",
      "Always test a regular expression after you have written it. E.g. if I want to identify strings that start with ATG I will test it to make sure I have got it right:\n",
      "\n",
      "    my_pattern = r'^ATG'\n",
      "    if re.search(my_pattern, 'ATGCGAGGT'):                      \n",
      "        print('OK')    \n",
      "    if re.search(my_pattern, 'TGATGCGAGGT'):                      \n",
      "        print('ERROR')\n",
      "\n",
      "Write lots of comments!\n",
      "\n",
      "There is lots more you can do with regular expressions:\n",
      "\n",
      "- special character classes\n",
      "- grouping\n",
      "- capturing\n",
      "- backreferences\n",
      "\n",
      "Take a look at [the official Python documentation](http://docs.python.org/py3k/library/re.html) for more details. The regular expression \"mini-language\" (more properly called a **domain-specific language**) is shared between many different languages (Perl, C, Java) and tools (`grep` and `sed` on the command line; many text editors)."
     ]
    },
    {
     "cell_type": "markdown",
     "metadata": {},
     "source": [
      "##Exercises\n",
      "\n",
      "**1.** Write a function that checks to see if a DNA sequence contains an EcoRI restriction site. The recognitian motif is GAATTC. Test your function on some positive and negative controls.\n",
      "You can either use `find()` or regular expressions to do the actual test. `find()` is like `index()`, but it will return -1 if the string is not found.\n",
      "\n",
      "**2.** Modify your script from the last session to check for each input sequence in a file whether it contains an EcoRI restriction site.\n",
      "\n",
      "**3.** The AvaII restriction enzyme recognizes two motifs: GGACC and GGTCC. Modify your script to check for the AvaII site as well. You will need to use regular expressions for this one!\n",
      "\n",
      "**4.** Here are a few more restriction enzyme sites; add these to your script. \n",
      "\n",
      "    Name     Motif\n",
      "    Hsp92I   G(A|G)CG(T|C)C\n",
      "    HhaI     GCGC\n",
      "    BrsI     ACTGGN"
     ]
    },
    {
     "cell_type": "code",
     "collapsed": false,
     "input": [],
     "language": "python",
     "metadata": {},
     "outputs": []
    }
   ],
   "metadata": {}
  }
 ]
}