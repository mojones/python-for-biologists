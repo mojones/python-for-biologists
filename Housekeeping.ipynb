{
 "metadata": {
  "name": "Housekeeping"
 },
 "nbformat": 3,
 "nbformat_minor": 0,
 "worksheets": [
  {
   "cells": [
    {
     "cell_type": "code",
     "collapsed": false,
     "input": [
      "#About this course\n",
      "\n",
      "- lectures in morning and afternoon\n",
      "- most of our time coding\n",
      "- shout out questions\n",
      "- other languages welcome\n",
      "- biological examples where possible\n",
      "- useful stuff first\n",
      "  - strings rather than numbers\n",
      "  - regular expressions\n",
      "  - non-interactive code first\n",
      "  - file IO\n"
     ],
     "language": "python",
     "metadata": {},
     "outputs": []
    }
   ],
   "metadata": {}
  }
 ]
}