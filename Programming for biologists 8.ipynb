{
 "metadata": {
  "name": "Programming for biologists 8"
 },
 "nbformat": 3,
 "nbformat_minor": 0,
 "worksheets": [
  {
   "cells": [
    {
     "cell_type": "markdown",
     "metadata": {},
     "source": [
      "##Working with lists\n",
      "\n",
      "There are a few operations that are very common to do with lists - so common that Python has built-in ways of expressing them. These functions don't make Python any more powerful, but they do let you express some operations much more concisely.\n",
      "\n",
      "## Sorting\n",
      "\n",
      "We have already seen how to sort a list - a very common job:"
     ]
    },
    {
     "cell_type": "code",
     "collapsed": false,
     "input": [
      "# sorted is a function that returns the sorted list and does not modify the original list\n",
      "my_list = ['abc123', 'xy45', 'cde54']\n",
      "print(sorted(my_list))\n",
      "print(my_list)"
     ],
     "language": "python",
     "metadata": {},
     "outputs": [
      {
       "output_type": "stream",
       "stream": "stdout",
       "text": [
        "['abc123', 'cde54', 'xy45']\n",
        "['abc123', 'xy45', 'cde54']"
       ]
      }
     ],
     "prompt_number": 2
    },
    {
     "cell_type": "code",
     "collapsed": false,
     "input": [
      "# .sort() is a method that doesn't return anything - it modifies the list itself\n",
      "my_list = ['abc123', 'xy45', 'cde54']\n",
      "print(my_list.sort())\n",
      "print(my_list)"
     ],
     "language": "python",
     "metadata": {},
     "outputs": [
      {
       "output_type": "stream",
       "stream": "stdout",
       "text": [
        "None\n",
        "['abc123', 'cde54', 'xy45']"
       ]
      }
     ],
     "prompt_number": 3
    },
    {
     "cell_type": "markdown",
     "metadata": {},
     "source": [
      "The default sort order in Python is in ASCII character order. This is nearly alphabetical order, but uppercase letters are always first. If we want to sort in some other order, we need to supply the `sorted` function with a `key` parameter that gives the name of a function which will convert each element to the version we want to sort. In other words, the list we get as the output from `sorted` contains the same elements as the input list, but in the order that they would have been sorted after having been transformed by the function. Some examples:"
     ]
    },
    {
     "cell_type": "code",
     "collapsed": false,
     "input": [
      "my_list = ['abc123', 'xy45', 'cde54', 'FEGG874']\n",
      "print(sorted(my_list))\n",
      "\n",
      "# str.lower() is a function that converts a string to lowercase\n",
      "# here is a lowercase sort\n",
      "print(str.lower('AbCdEf'))\n",
      "print(sorted(my_list, key=str.lower))\n",
      "# sort by the length of the string\n",
      "print(sorted(my_list, key=len))\n",
      "# add reverse=True for reverse sorting\n",
      "print(sorted(my_list, key=len, reverse=True))"
     ],
     "language": "python",
     "metadata": {},
     "outputs": [
      {
       "output_type": "stream",
       "stream": "stdout",
       "text": [
        "['FEGG874', 'abc123', 'cde54', 'xy45']\n",
        "abcdef\n",
        "['abc123', 'cde54', 'FEGG874', 'xy45']\n",
        "['xy45', 'cde54', 'abc123', 'FEGG874']\n",
        "['FEGG874', 'abc123', 'cde54', 'xy45']"
       ]
      }
     ],
     "prompt_number": 4
    },
    {
     "cell_type": "code",
     "collapsed": false,
     "input": [
      "# a more complicated example\n",
      "# we will use the function that counts the lenth of poly-A tail\n",
      "import re\n",
      "\n",
      "def count_polya_tail(sequence):\n",
      "    match = re.search(r'a+$', sequence)\n",
      "    if match:\n",
      "        return(len(match.group()))\n",
      "    else:\n",
      "        return 0\n",
      "# sort by length of poly-A tail  \n",
      "my_list = ['atgaaa', 'gtca', 'catgcaaaaaa', 'atgctt']\n",
      "print(sorted(my_list, key=count_polya_tail))\n",
      "# just to prove it works both ways\n",
      "print(my_list)\n",
      "my_list.sort(key=count_polya_tail)\n",
      "print(my_list)"
     ],
     "language": "python",
     "metadata": {},
     "outputs": [
      {
       "output_type": "stream",
       "stream": "stdout",
       "text": [
        "['atgctt', 'gtca', 'atgaaa', 'catgcaaaaaa']\n",
        "['atgaaa', 'gtca', 'catgcaaaaaa', 'atgctt']\n",
        "['atgctt', 'gtca', 'atgaaa', 'catgcaaaaaa']"
       ]
      }
     ],
     "prompt_number": 5
    },
    {
     "cell_type": "markdown",
     "metadata": {},
     "source": [
      "## Filter\n",
      "\n",
      "Another very common operation is to get a subset of items in a list that pass some test. Here's a bit of code that takes our list of accesion numbers and creates a new list containing only the elements that are longer than five characters:"
     ]
    },
    {
     "cell_type": "code",
     "collapsed": false,
     "input": [
      "my_list = ['abc123', 'xy45', 'cde54', 'FEGG874']\n",
      "\n",
      "my_new_list = []\n",
      "for item in my_list:\n",
      "    if len(item) > 5:\n",
      "        my_new_list.append(item)\n"
     ],
     "language": "python",
     "metadata": {},
     "outputs": []
    },
    {
     "cell_type": "markdown",
     "metadata": {},
     "source": [
      "Here is the same code but expressed using the `filter` function. First we write a function that will take any given element and return true or false to indictate whether or not is should be included in the results list:\n",
      "\n",
      "    def is_long(item):\n",
      "        return len(item) > 5\n",
      "\n",
      "That function will return True if the argument is longer than 5 letters and False if it is not. Now we pass that function as the first argument to `filter`. The second argument is the list that contains the original elements:"
     ]
    },
    {
     "cell_type": "code",
     "collapsed": false,
     "input": [
      "my_list = ['abc123', 'xy45', 'cde54', 'FEGG874']\n",
      "\n",
      "def is_long(item):\n",
      "    return len(item) > 5\n",
      "\n",
      "for i in filter(is_long, my_list):\n",
      "    print(i + ' gets through the filter')\n",
      "\n",
      "# note that the result of filter is not actually a list\n",
      "# but a filter object\n",
      "print(filter(is_long, my_list))\n",
      "\n",
      "#if we really want a list we can use list()\n",
      "# but most of the time we don't, if we are just going to use it \n",
      "# in a loop\n",
      "print(list(filter(is_long, my_list)))"
     ],
     "language": "python",
     "metadata": {},
     "outputs": []
    },
    {
     "cell_type": "markdown",
     "metadata": {},
     "source": [
      "To avoid the overhead of writing such a short function, we can create an **anonymous function** using the `lamda` keyword. Here is our original filter function:\n",
      "\n",
      "    def is_long(item):\n",
      "        return len(item) > 5\n",
      "\n",
      "and here is the lambda version\n",
      "\n",
      "    lambda item : len(item)> 5\n",
      "\n",
      "since the whole purpose of writing anonymous functions is to save typing, they're often written using x as the parameter:\n",
      "\n",
      "    lambda x : len(x) > 5\n",
      "\n",
      "This doesn't change the behaviour of the filter, it just means that we can write the function as part of the filter statement instead of giving it a separate name. "
     ]
    },
    {
     "cell_type": "code",
     "collapsed": false,
     "input": [
      "my_list = ['abc123', 'xy45', 'cde54', 'FEGG874']\n",
      "\n",
      "# here is a shortcut\n",
      "# lamda makes an anonymous function\n",
      "\n",
      "for i in filter(lambda x : len(x) > 5, my_list):\n",
      "    print(i)"
     ],
     "language": "python",
     "metadata": {},
     "outputs": [
      {
       "output_type": "stream",
       "stream": "stdout",
       "text": [
        "abc123\n",
        "FEGG874"
       ]
      }
     ],
     "prompt_number": 7
    },
    {
     "cell_type": "code",
     "collapsed": false,
     "input": [
      "my_list = ['abc123', 'xy45', 'cde54', 'FEGG874']\n",
      "\n",
      "# filters can be arbitrarily complicated\n",
      "# all they have to do is either return true or false\n",
      "def is_long_and_starts_with_a(item):\n",
      "    if len(item) > 5 and item.startswith('a'):\n",
      "        return True\n",
      "    else:\n",
      "        return False\n",
      "\n",
      "for i in filter(is_long_and_starts_with_a, my_list):\n",
      "    print(i)"
     ],
     "language": "python",
     "metadata": {},
     "outputs": [
      {
       "output_type": "stream",
       "stream": "stdout",
       "text": [
        "abc123"
       ]
      }
     ],
     "prompt_number": 8
    },
    {
     "cell_type": "markdown",
     "metadata": {},
     "source": [
      "We can also use lambda expressions when sorting (see above) or mapping (see below)."
     ]
    },
    {
     "cell_type": "markdown",
     "metadata": {},
     "source": [
      "##Map\n",
      "\n",
      "Yet another common operation is to apply some function to all elements in a list to make a new list.\n",
      "\n",
      "In python we have a `map` function - it works much like the `filter` function. We supply the `map` function with a list of inputs and a function to convert each input element, and we get as the output a list of the transformed elements."
     ]
    },
    {
     "cell_type": "code",
     "collapsed": false,
     "input": [
      "my_list = ['abc123', 'xy45', 'cde54', 'FEGG874']\n",
      "\n",
      "# we define a function which will do the comparison\n",
      "def convert_to_uppercase(input):\n",
      "    return input.upper()\n",
      "\n",
      "for i in map(convert_to_uppercase, my_list):\n",
      "    print(i)"
     ],
     "language": "python",
     "metadata": {},
     "outputs": []
    },
    {
     "cell_type": "markdown",
     "metadata": {},
     "source": [
      "Here is a more complicated example; the `ambig_to_lower` function takes a DNA sequence as its input, and returns a copy of the sequence with all unambiguous bases (A,T,G,C) in uppercase and all ambiguous bases (R, Y, N) in lowercase. Here we use it with a `map` to format a list of DNA sequences."
     ]
    },
    {
     "cell_type": "code",
     "collapsed": false,
     "input": [
      "# a little more complicated\n",
      "\n",
      "def ambig_to_lower(input):\n",
      "    output = ''\n",
      "    for base in input.upper():\n",
      "        if base in ['A', 'T', 'G', 'C']:\n",
      "            output = output + base\n",
      "        else:\n",
      "            output = output + base.lower()\n",
      "    return output\n",
      "\n",
      "assert ambig_to_lower('ACGTANTRACTYACT') == 'ACGTAnTrACTyACT'\n",
      "assert ambig_to_lower('actgncatgycatgcrr') == 'ACTGnCATGyCATGCrr'\n",
      "\n",
      "my_sequences = [\n",
      "                'ctagtacngytagct', \n",
      "                'caytcngtacatcg',\n",
      "                'ttargctngtagncg',\n",
      "                'tgartcggcygngcc']\n",
      "\n",
      "for seq in map(ambig_to_lower, my_sequences):\n",
      "    print(seq)"
     ],
     "language": "python",
     "metadata": {},
     "outputs": [
      {
       "output_type": "stream",
       "stream": "stdout",
       "text": [
        "CTAGTACnGyTAGCT\n",
        "CAyTCnGTACATCG\n",
        "TTArGCTnGTAGnCG\n",
        "TGArTCGGCyGnGCC"
       ]
      }
     ],
     "prompt_number": 10
    },
    {
     "cell_type": "markdown",
     "metadata": {},
     "source": [
      "We can actually rewrite this to use another map if we realize that the `ambig_to_lower` function is itself an example of a map, where each input element is a single base. If we write a function called `ambig_to_lower_single` that formats a single base, then we can define `ambig_to_lower` in terms of a map using the dna sequence as the input list."
     ]
    },
    {
     "cell_type": "code",
     "collapsed": false,
     "input": [
      "# but wait! ambig_to_lower is itself an example of a map!\n",
      "\n",
      "def ambig_to_lower_single(base):\n",
      "    if base.upper() in ['A', 'T', 'G', 'C']:\n",
      "        return base.upper()\n",
      "    else:\n",
      "        return base.lower()\n",
      "    \n",
      "assert ambig_to_lower_single('A') == 'A'\n",
      "assert ambig_to_lower_single('Y') == 'y'\n",
      "\n",
      "# the join method joins elements together\n",
      "def ambig_to_lower(seq):\n",
      "    return ''.join(map(ambig_to_lower_single, seq))\n",
      "\n",
      "assert ambig_to_lower('actgatncgratygcat') == 'ACTGATnCGrATyGCAT'\n",
      "\n",
      "my_sequences = [\n",
      "                'ctagtacngytagct', \n",
      "                'caytcngtacatcg',\n",
      "                'ttargctngtagncg',\n",
      "                'tgartcggcygngcc']\n",
      "\n",
      "for seq in map(ambig_to_lower, my_sequences):\n",
      "    print(seq)"
     ],
     "language": "python",
     "metadata": {},
     "outputs": [
      {
       "output_type": "stream",
       "stream": "stdout",
       "text": [
        "CTAGTACnGyTAGCT\n",
        "CAyTCnGTACATCG\n",
        "TTArGCTnGTAGnCG\n",
        "TGArTCGGCyGnGCC\n"
       ]
      }
     ],
     "prompt_number": 4
    },
    {
     "cell_type": "markdown",
     "metadata": {},
     "source": [
      "##Exercises\n",
      "\n",
      "Here is a chunk of text taken from a BLAST result in tabular format:\n",
      "\n",
      "    AF178033        EMORG:AF178033  100.00  811     0       0       1       811     1       811     0.0     1566.6\n",
      "    AF178033        EMORG:AF031394  99.63   811     3       0       1       811     99      909     0.0     1542.8\n",
      "    AF178033        EMORG:AF031393  95.07   811     40      0       1       811     99      909     0.0     1249.4\n",
      "    AF178033        EMORG:AF178031  94.82   811     42      0       1       811     1       811     0.0     1233.5\n",
      "    AF178033        EMORG:AF178032  94.57   811     44      0       1       811     1       811     0.0     1217.7\n",
      "    AF178033        EMORG:AF353195  85.93   803     113     0       1       803     99      901     0.0     670.5\n",
      "    AF178033        EMORG:AF353192  85.86   806     114     0       1       806     99      904     0.0     670.5\n",
      "    AF178033        EMORG:AF353196  85.48   806     117     0       1       806     99      904     0.0     644.8\n",
      "    AF178033        EMORG:AF031391  85.48   806     117     0       1       806     99      904     0.0     644.8\n",
      "    AF178033        EMORG:AF353201  85.36   806     118     0       1       806     99      904     1e-179  636.8\n",
      "    AF178033        EMORG:AF353200  84.99   806     121     0       1       806     99      904     2e-172  613.0\n",
      "    AF178033        EMORG:AF353197  84.99   806     121     0       1       806     99      904     2e-172  613.0\n",
      "    AF178033        EMORG:AF353199  84.86   806     122     0       1       806     99      904     2e-171  609.1\n",
      "    AF178033        EMORG:AF031387  84.80   809     123     0       1       809     99      907     4e-170  605.1\n",
      "    AF178033        EMORG:AF353198  84.74   806     123     0       1       806     99      904     6e-169  601.1\n",
      "    AF178033        EMORG:AF031392  84.74   806     123     0       1       806     99      904     2e-168  599.2\n",
      "    AF178033        EMORG:AF080490  84.89   794     120     0       16      809     114     907     2e-165  589.3\n",
      "    AF178033        EMORG:AF031395  84.80   809     123     0       1       809     99      907     9e-165  587.3\n",
      "    AF178033        EMORG:AF353193  84.49   806     125     0       1       806     99      904     5e-163  581.3\n",
      "    AF178033        EMORG:AF353194  84.24   806     127     0       1       806     99      904     8e-159  567.4\n",
      "    AF178033        EMORG:AF031402  84.09   811     129     0       1       811     99      909     2e-156  559.5\n",
      "    AF178033        EMORG:AF031399  84.00   806     129     0       1       806     99      904     2e-153  549.6\n",
      "    AF178033        EMORG:AF031400  83.87   806     130     0       1       806     99      904     1e-148  533.7\n",
      "    AF178033        EMORG:AF031396  83.77   807     131     0       5       811     103     909     2e-144  519.9\n",
      "    AF178033        EMORG:AF080489  83.50   806     133     0       1       806     99      904     7e-144  517.9\n",
      "    AF178033        EMORG:AF031389  83.35   811     135     0       1       811     99      909     1e-142  513.9\n",
      "    AF178033        EMORG:AF412167  83.48   811     134     0       1       811     67      877     4e-142  511.9\n",
      "    AF178033        EMORG:AF080488  83.44   809     134     0       1       809     99      907     7e-141  508.0\n",
      "    AF178033        EMORG:AF031388  83.64   807     130     2       1       806     99      904     1e-139  504.0\n",
      "    AF178033        EMORG:AF080491  83.23   811     136     0       1       811     119     929     6e-138  498.1\n",
      "    AF178033        EMORG:AF353202  85.67   586     84      0       221     806     319     904     2e-137  496.1\n",
      "    AF178033        EMORG:AF353202  86.98   192     25      0       1       192     99      290     2.7e-35 157.1\n",
      "    AF178033        EMORG:AF031398  83.11   811     137     0       1       811     99      909     2e-137  496.1\n",
      "    AF178033        EMORG:AF031397  82.98   811     138     0       1       811     99      909     6e-135  488.2\n",
      "    AF178033        EMORG:AF031390  82.93   791     135     0       1       791     99      889     4e-133  482.2\n",
      "    AF178033        EMORG:AF080492  82.51   806     141     0       4       809     102     907     8e-125  454.5\n",
      "    AF178033        EMORG:AF080487  82.26   806     143     0       1       806     119     924     2e-122  446.5\n",
      "    AF178033        EMORG:AF031401  84.15   650     103     0       1       650     99      748     2e-122  446.5\n",
      "\n",
      "The order of the columns is :\n",
      "\n",
      "Query id,Subject id,% identity,alignment length,mismatches,gap openings,q. start,q. end,s. start,s. end,e-value,bit score\n",
      "\n",
      "Write a script that filters the rows and prints out only the ones that pass the filter. Pick a couple of the criteria below or come up with your own:\n",
      "\n",
      "- **1.** the alignment length is at least 810 bases\n",
      "- **2.** the bitscore is between 500 and 600\n",
      "- **3.** the two digits after the decimal place in the percent identity are both odd (warning: hard)\n",
      "\n",
      "Modify your script to also sort the rows:\n",
      "\n",
      "- **4.** by subject id, alphabetically\n",
      "- **5.** by alignment length, starting with the longest\n",
      "- **6.** by the sum of all the digits in the bitscore\n",
      "\n",
      "Modify your script to transform the rows using map:\n",
      "\n",
      "- **7.** convert all characters to lowercase\n",
      "- **8.** replace all the spaces with commas (tricky!)\n",
      "- **9.** make just the subject id in lowercase where the length ends with a 6\n",
      "\n",
      "Hints\n",
      "\n",
      "- you will need to use `split()` to extract individual values from the row\n",
      "- look back at previous session notes to remind yourself how to open a file and process each line\n",
      "- if you need to turn a string into an integer (whole number) use `int(my_string)`\n",
      "- if you need to turn a string into a float (decimal number) use `float(my_string)`\n",
      "- to get the remainder when x is divided by y use `x % y`\n",
      "- to do a find-and-replace using regular expressions you can use `re.sub(pattern, replacement, string)`\n",
      "\n"
     ]
    },
    {
     "cell_type": "code",
     "collapsed": false,
     "input": [],
     "language": "python",
     "metadata": {},
     "outputs": []
    }
   ],
   "metadata": {}
  }
 ]
}