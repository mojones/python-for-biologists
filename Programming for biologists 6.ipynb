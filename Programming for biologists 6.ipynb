{
 "metadata": {
  "name": "Programming for biologists 6"
 },
 "nbformat": 3,
 "nbformat_minor": 0,
 "worksheets": [
  {
   "cells": [
    {
     "cell_type": "markdown",
     "metadata": {},
     "source": [
      "## More about functions\n",
      "\n",
      "At this point in the course, we're going to pause and look at a few issues to do with structuring code.\n",
      "\n",
      "### Function arguments can have default values\n",
      "\n",
      "    def say_hello(name='Martin'):\n",
      "      print(\"Hello \" + name)\n",
      "\n",
      "if we call `say_hello` with empty argument list like this `say_hello()`\n",
      "the the `name` argument will be set to the default"
     ]
    },
    {
     "cell_type": "code",
     "collapsed": false,
     "input": [
      "def say_hello(name='Martin'):\n",
      "    print(\"Hello \" + name)\n",
      "    \n",
      "say_hello()\n",
      "say_hello('John')"
     ],
     "language": "python",
     "metadata": {},
     "outputs": [
      {
       "output_type": "stream",
       "stream": "stdout",
       "text": [
        "Hello Martin\n",
        "Hello John"
       ]
      }
     ],
     "prompt_number": 1
    },
    {
     "cell_type": "code",
     "collapsed": false,
     "input": [
      "# often useful with true/false values\n",
      "# non-default arguments must come first in the list\n",
      "def format_fasta(sequence, name='myseq', uppercase=True):\n",
      "    if uppercase:\n",
      "        output_sequence = sequence.upper()\n",
      "    else:\n",
      "        output_sequence = sequence\n",
      "    fasta_string = '>' + name + \"\\n\" + output_sequence + \"\\n\"\n",
      "    return fasta_string\n",
      "\n",
      "dna = 'actgactgatcgatcgatcatg'\n",
      "print(format_fasta(dna))\n",
      "print(format_fasta(dna, 'abc123'))\n",
      "print(format_fasta(dna, 'abc123', False))"
     ],
     "language": "python",
     "metadata": {},
     "outputs": [
      {
       "output_type": "stream",
       "stream": "stdout",
       "text": [
        ">myseq\n",
        "ACTGACTGATCGATCGATCATG\n",
        "\n",
        ">abc123\n",
        "ACTGACTGATCGATCGATCATG\n",
        "\n",
        ">abc123\n",
        "actgactgatcgatcgatcatg\n"
       ]
      }
     ],
     "prompt_number": 2
    },
    {
     "cell_type": "markdown",
     "metadata": {},
     "source": [
      "### You can give named arguments when calling functions"
     ]
    },
    {
     "cell_type": "code",
     "collapsed": false,
     "input": [
      "def format_fasta(sequence, name='myseq', uppercase=True):\n",
      "    if uppercase:\n",
      "        output_sequence = sequence.upper()\n",
      "    else:\n",
      "        output_sequence = sequence\n",
      "    fasta_string = '>' + name + \"\\n\" + output_sequence + \"\\n\"\n",
      "    return fasta_string\n",
      "\n",
      "print(format_fasta(dna, 'abc123', False))\n",
      "# this does the same as the above statement, but is easier to read\n",
      "print(format_fasta(sequence=dna, name='abc123', uppercase=False))"
     ],
     "language": "python",
     "metadata": {},
     "outputs": [
      {
       "output_type": "stream",
       "stream": "stdout",
       "text": [
        ">abc123\n",
        "actgactgatcgatcgatcatg\n",
        "\n",
        ">abc123\n",
        "actgactgatcgatcgatcatg\n"
       ]
      }
     ],
     "prompt_number": 3
    },
    {
     "cell_type": "markdown",
     "metadata": {},
     "source": [
      "###Tackling a larger program\n",
      "\n",
      "The key to managing the complexity of a big program is to break it up into small pieces.\n",
      "\n",
      "Say you can comfortably hold a 10-line program in your head \n",
      "(i.e. understand the purpose of every statement and the values that every variable will hold). \n",
      "With great effort you may be able to double this to 20 lines. But you will never be able to hold two thousand lines!\n",
      "\n",
      "In contrast, if you can break up the program into 10-line functions, there is no limit to the size of program that\n",
      "you can work on. \n",
      "\n",
      "##Testing functions\n",
      "\n",
      "You can test individual functions much more easily than you can test a large program. e.g.\n",
      "\n",
      "\n",
      "    "
     ]
    },
    {
     "cell_type": "code",
     "collapsed": false,
     "input": [
      "def contains_ecori(input):\n",
      "    if input.upper().find('GAATTC') > 0:\n",
      "        return True\n",
      "    else:\n",
      "        return False\n",
      "\n",
      "print('these should all be true')\n",
      "print(contains_ecori('catcgaattcactacgt'))\n",
      "print(contains_ecori('CCGAGAATTCGCGTACG'))    \n",
      "print(contains_ecori('gaattc'))\n",
      "print(contains_ecori('gaattcctagcatt'))\n",
      "print(contains_ecori('actgactatcatgaattc'))\n",
      "\n",
      "print('these should all be false')\n",
      "print(contains_ecori('catcgaatacactacgt'))\n",
      "print(contains_ecori('CGTAGCTGAGCT'))\n",
      "print(contains_ecori(''))\n",
      "\n",
      "# can you spot the error?\n",
      "# the above function fails if the input sequences has gaattc right at the start\n",
      "# because then the index is 0\n",
      "# to fix it, we should change the > to >="
     ],
     "language": "python",
     "metadata": {},
     "outputs": [
      {
       "output_type": "stream",
       "stream": "stdout",
       "text": [
        "these should all be true\n",
        "True\n",
        "True\n",
        "False\n",
        "False\n",
        "True\n",
        "these should all be false\n",
        "False\n",
        "False\n",
        "False"
       ]
      }
     ],
     "prompt_number": 4
    },
    {
     "cell_type": "code",
     "collapsed": false,
     "input": [
      "def contains_ecori(input):\n",
      "    if input.upper().find('GAATTC') > 0:\n",
      "        return True\n",
      "    else:\n",
      "        return False\n",
      "\n",
      "# here is a slightly different way of writing the tests\n",
      "positive_controls = [\n",
      "                     'catcgaattcactacgt',\n",
      "                     'CCGAGAATTCGCGTACG',\n",
      "                     'gaattc',\n",
      "                     'gaattcctagcatt',\n",
      "                     'actgactatcatgaattc'\n",
      "                     ]\n",
      "\n",
      "negative_controls = [\n",
      "                     'catcgaatacactacgt',\n",
      "                     'CGTAGCTGAGCT',\n",
      "                     ''\n",
      "                     ]\n",
      "\n",
      "print('these should all be true')\n",
      "for pos in positive_controls:\n",
      "    print(contains_ecori(pos))\n",
      "\n",
      "print('these should all be false')\n",
      "for neg in negative_controls:\n",
      "    print(contains_ecori(neg))"
     ],
     "language": "python",
     "metadata": {},
     "outputs": [
      {
       "output_type": "stream",
       "stream": "stdout",
       "text": [
        "these should all be true\n",
        "True\n",
        "True\n",
        "False\n",
        "False\n",
        "True\n",
        "these should all be false\n",
        "False\n",
        "False\n",
        "False"
       ]
      }
     ],
     "prompt_number": 6
    },
    {
     "cell_type": "code",
     "collapsed": false,
     "input": [
      "def contains_ecori(input):\n",
      "    if input.upper().find('GAATTC') > 0:\n",
      "        return True\n",
      "    else:\n",
      "        return False\n",
      "\n",
      "positive_controls = [\n",
      "                     'catcgaattcactacgt',\n",
      "                     'CCGAGAATTCGCGTACG',\n",
      "                     'gaattc',\n",
      "                     'gaattcctagcatt',\n",
      "                     'actgactatcatgaattc'\n",
      "                     ]\n",
      "\n",
      "negative_controls = [\n",
      "                     'catcgaatacactacgt',\n",
      "                     'CGTAGCTGAGCT',\n",
      "                     ''\n",
      "                     ]\n",
      "# here is an even better way of testing the function\n",
      "# the assert keyword makes Python complain with an error if the output is not correct\n",
      "for pos in positive_controls:\n",
      "    assert contains_ecori(pos) == True\n",
      "\n",
      "for neg in negative_controls:\n",
      "    assert contains_ecori(neg) == False"
     ],
     "language": "python",
     "metadata": {},
     "outputs": [
      {
       "ename": "AssertionError",
       "evalue": "",
       "output_type": "pyerr",
       "traceback": [
        "\u001b[1;31m---------------------------------------------------------------------------\u001b[0m\n\u001b[1;31mAssertionError\u001b[0m                            Traceback (most recent call last)",
        "\u001b[1;32m/home/martin/Dropbox/projects/python_course/<ipython-input-7-1eaee1069032>\u001b[0m in \u001b[0;36m<module>\u001b[1;34m()\u001b[0m\n\u001b[0;32m     21\u001b[0m \u001b[1;31m# the assert keyword makes Python complain with an error if the output is not correct\u001b[0m\n\u001b[1;33m\u001b[0m\u001b[0m\n\u001b[0;32m     22\u001b[0m \u001b[1;32mfor\u001b[0m \u001b[0mpos\u001b[0m \u001b[1;32min\u001b[0m \u001b[0mpositive_controls\u001b[0m\u001b[1;33m:\u001b[0m\u001b[1;33m\u001b[0m\u001b[0m\n\u001b[1;32m---> 23\u001b[1;33m     \u001b[1;32massert\u001b[0m \u001b[0mcontains_ecori\u001b[0m\u001b[1;33m(\u001b[0m\u001b[0mpos\u001b[0m\u001b[1;33m)\u001b[0m \u001b[1;33m==\u001b[0m \u001b[1;32mTrue\u001b[0m\u001b[1;33m\u001b[0m\u001b[0m\n\u001b[0m\u001b[0;32m     24\u001b[0m \u001b[1;33m\u001b[0m\u001b[0m\n\u001b[0;32m     25\u001b[0m \u001b[1;32mfor\u001b[0m \u001b[0mneg\u001b[0m \u001b[1;32min\u001b[0m \u001b[0mnegative_controls\u001b[0m\u001b[1;33m:\u001b[0m\u001b[1;33m\u001b[0m\u001b[0m\n",
        "\u001b[1;31mAssertionError\u001b[0m: "
       ]
      }
     ],
     "prompt_number": 7
    },
    {
     "cell_type": "markdown",
     "metadata": {},
     "source": [
      "##Refactoring\n",
      "\n",
      "This is just a fancy programming term that mean _changing the code without changing its behaviour_.\n",
      "\n",
      "This is a very powerful technique - it means that we can alter one bit of the code without worrying whether it will affect another bit. eg."
     ]
    },
    {
     "cell_type": "code",
     "collapsed": false,
     "input": [
      "# here is a function to count the number of A's at the end of a DNA sequence\n",
      "def count_polya_tail(sequence):\n",
      "    number_of_as = 0\n",
      "    # make a range which goes from the last index in the sequence to 0, counting down\n",
      "    for i in range(len(sequence)-1, 0, -1):\n",
      "        base = sequence[i]\n",
      "        # if the base we are looking at is A, increment the counter\n",
      "        if (base == 'a'):\n",
      "            number_of_as = number_of_as + 1\n",
      "        # otherwise end the function and return the current value\n",
      "        else:\n",
      "            return number_of_as\n",
      "        \n",
      "        \n",
      "print(count_polya_tail('actgcaaaa'))\n",
      "print(count_polya_tail('actgca'))\n",
      "print(count_polya_tail('actgcaaaaaaaag'))"
     ],
     "language": "python",
     "metadata": {},
     "outputs": [
      {
       "output_type": "stream",
       "stream": "stdout",
       "text": [
        "4\n",
        "1\n",
        "0"
       ]
      }
     ],
     "prompt_number": 13
    },
    {
     "cell_type": "code",
     "collapsed": false,
     "input": [
      "import re\n",
      "\n",
      "# here we will rewrite the function to use regular expressions\n",
      "def count_polya_tail_new(sequence):\n",
      "    match = re.search(r'a+$', sequence)\n",
      "    if match:\n",
      "        # calling match.group() gives us the text that matched\n",
      "        return(len(match.group()))\n",
      "    else:\n",
      "        return 0\n",
      "        \n",
      "        \n",
      "print(count_polya_tail_new('actgcaaaa'))\n",
      "print(count_polya_tail_new('actgcaa'))\n",
      "print(count_polya_tail_new('actgcaaaaaaaag'))"
     ],
     "language": "python",
     "metadata": {},
     "outputs": [
      {
       "output_type": "stream",
       "stream": "stdout",
       "text": [
        "4\n",
        "2\n",
        "0"
       ]
      }
     ],
     "prompt_number": 9
    },
    {
     "cell_type": "markdown",
     "metadata": {},
     "source": [
      "Notice that we completely changed the way that the function works, but because we kept the inputs and output the same, we didn't have to alter the lines of code that actually use the function."
     ]
    },
    {
     "cell_type": "markdown",
     "metadata": {},
     "source": [
      "##Exercises\n",
      "\n",
      "**1.** Write a function that takes an input DNA sequence and translates it into protein. \n",
      "The function will take one argument - the DNA string - and return a string whih is the translation.\n",
      "Here is a chunk of code to get you started - this bit of code defines a dict\n",
      "where the keys are codons and the values are amino acid codes:\n",
      "\n",
      "\n",
      "    gencode = {\n",
      "    'ATA':'I', 'ATC':'I', 'ATT':'I', 'ATG':'M',\n",
      "    'ACA':'T', 'ACC':'T', 'ACG':'T', 'ACT':'T',\n",
      "    'AAC':'N', 'AAT':'N', 'AAA':'K', 'AAG':'K',\n",
      "    'AGC':'S', 'AGT':'S', 'AGA':'R', 'AGG':'R',\n",
      "    'CTA':'L', 'CTC':'L', 'CTG':'L', 'CTT':'L',\n",
      "    'CCA':'P', 'CCC':'P', 'CCG':'P', 'CCT':'P',\n",
      "    'CAC':'H', 'CAT':'H', 'CAA':'Q', 'CAG':'Q',\n",
      "    'CGA':'R', 'CGC':'R', 'CGG':'R', 'CGT':'R',\n",
      "    'GTA':'V', 'GTC':'V', 'GTG':'V', 'GTT':'V',\n",
      "    'GCA':'A', 'GCC':'A', 'GCG':'A', 'GCT':'A',\n",
      "    'GAC':'D', 'GAT':'D', 'GAA':'E', 'GAG':'E',\n",
      "    'GGA':'G', 'GGC':'G', 'GGG':'G', 'GGT':'G',\n",
      "    'TCA':'S', 'TCC':'S', 'TCG':'S', 'TCT':'S',\n",
      "    'TTC':'F', 'TTT':'F', 'TTA':'L', 'TTG':'L',\n",
      "    'TAC':'Y', 'TAT':'Y', 'TAA':'_', 'TAG':'_',\n",
      "    'TGC':'C', 'TGT':'C', 'TGA':'_', 'TGG':'W'}\n",
      "\n",
      "\n",
      "\n",
      "Remember the discussion above about testability of functions. Break down the problem into smaller subproblems e.g.\n",
      "\n",
      "### one level \n",
      "- translate a dna sequence to protein\n",
      "\n",
      "\n",
      "### two levels\n",
      "- translate a dna sequence to protein\n",
      "    - read an input sequene from a file into a string\n",
      "    - make a new string which is the tranlated sequence\n",
      "    - print out the translated string\n",
      "\n",
      "\n",
      "### three levels\n",
      "- translate a dna sequence to protein\n",
      "    - read an input sequene from a file into a string\n",
      "    - make a new string which is the tranlated sequence\n",
      "        - split the input string into codons\n",
      "        - translate each codon into the amino acid\n",
      "        - join the amino acids together to make the output\n",
      "    - print out the translated string\n",
      "\n",
      "\n",
      "Test your function for different inputs. What will happen if the length of the input sequence is not a multiple of 3? If the input sequence contains undefined bases?\n",
      "If it contains gaps? If it is shorter than one codon? \n",
      "\n",
      "\n",
      "**2.** Modify your function so that it returns the translation in all 3 forward frames.\n",
      "\n",
      "\n",
      "**3.** Modify your function so that it takes two arguments; the second argument is the frame to use.\n",
      "Decide whether you want to use 1,2,3 or 0,1,2 to represent frames.\n",
      "\n",
      "**4.** Modify your function so that it can do translation in reverse frames as well. Remember you will have to both reverse (easy!) and complement (tricky!) the input sequence.\n",
      "Hint: you might want to store the mapping of `base -> complement` in a dict."
     ]
    }
   ],
   "metadata": {}
  }
 ]
}