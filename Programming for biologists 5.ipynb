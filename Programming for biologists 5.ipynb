{
 "metadata": {
  "name": "Programming for biologists 5"
 },
 "nbformat": 3,
 "nbformat_minor": 0,
 "worksheets": [
  {
   "cells": [
    {
     "cell_type": "markdown",
     "metadata": {},
     "source": [
      "##Dictionaries\n",
      "\n",
      "Yesterday we looked at the problem of storing information about restriction enzymes.\n",
      "\n",
      "The solution was awkward, because we needed a different variable for each restriction enzyme we are interested in:\n",
      "\n",
      "    ecori  = r'GAATTC'\n",
      "    avaii  = r'GG(A|T)CC'\n",
      "    hsp92i = r'G(A|G)CG(T|C)C'\n",
      "    hhai   = r'GCGC'\n",
      "    brsi   = r'ACTGG[ATGC]'\n",
      "\n",
      "And we had to make a separate function call for each one:\n",
      "\n",
      "    if (contains_motif(ecori, sequence)):\n",
      "        print('  contains EcoRI')\n",
      "    if (contains_motif(avaii, sequence)):\n",
      "        print('  contains AvaII')\n",
      "    if (contains_motif(hsp92i, sequence)):\n",
      "        print('  contains Hsp92I')\n",
      "    if (contains_motif(hhai, sequence)):\n",
      "        print('  contains HhaI')\n",
      "    if (contains_motif(brsi, sequence)):\n",
      "        print('  contains BrsI')\n",
      "\n",
      "This is not too bad for 5 enzymes, but imagine several thousand.\n",
      "\n",
      "Alternatively, we could store the motifs in an array:\n",
      "\n",
      "    all_enzymnes = [r'GAATTC', r'GG(A|T)CC', r'G(A|G)CG(T|C)C']\n",
      "\n",
      "and loop through:\n",
      "\n",
      "    for motif in all_enzymes:\n",
      "        # do the test\n",
      "\n",
      "but then we have no way of knowing the name of each enzyme. \n",
      "\n",
      "What we really need is a way of storing key -> value data. This is a common job in all types of programming:\n",
      " \n",
      "                   key -> value\n",
      "    restriction enzyme -> motif\n",
      "             accession -> dna sequence\n",
      "                  name -> email address\n",
      "               species -> genus\n",
      "                 locus -> chromosomal location\n",
      "\n",
      "Python's way of solving this problem is called a **dict** (short for dictionary, which is a way of mapping words to their definitions)\n",
      "\n",
      "Dicts work similarly to lists, except:\n",
      "\n",
      "- we use curly brackets {} when making them\n",
      "- instead of getting the value at an index ( `my_list[4]` ) we get the value for a given key ( my_list['martin'] )\n",
      "- keys can be numbers or strings (not quite true, but close enough!)\n",
      "- keys must be unique\n",
      "- dicts don't have any order! (not like a real dictionary)\n",
      "- values can be anything (number, string, file). Values can even be other containers like lists or dicts. \n",
      "\n",
      "Examples:"
     ]
    },
    {
     "cell_type": "code",
     "collapsed": false,
     "input": [
      "# we can make a dict in a similar way to a list\n",
      "enzymes = {'EcoRI' :'GAATTC', 'HhaI' : 'GCGC'}\n",
      "print(enzymes)\n",
      "\n",
      "# we can get a single value, if we know the key\n",
      "print(enzymes['EcoRI'])\n",
      "\n",
      "# we can set a single key\n",
      "enzymes['AvaII'] = 'GG(A|T)CC'\n",
      "print(enzymes)\n",
      "\n",
      "# we can delete a key\n",
      "del(enzymes['EcoRI'])\n",
      "print(enzymes)"
     ],
     "language": "python",
     "metadata": {},
     "outputs": [
      {
       "output_type": "stream",
       "stream": "stdout",
       "text": [
        "{'EcoRI': 'GAATTC', 'HhaI': 'GCGC'}\n",
        "GAATTC\n",
        "{'EcoRI': 'GAATTC', 'HhaI': 'GCGC', 'AvaII': 'GG(A|T)CC'}\n",
        "{'HhaI': 'GCGC', 'AvaII': 'GG(A|T)CC'}"
       ]
      }
     ],
     "prompt_number": 3
    },
    {
     "cell_type": "code",
     "collapsed": false,
     "input": [
      "# we can use a number as a value\n",
      "base_counts = {'a' : 25, 't' : 32, 'g' : 85, 'c' : 63}\n",
      "c_count = base_counts['c']\n",
      "# and we can use a variable when getting a key\n",
      "my_base = 't'\n",
      "t_count = base_counts[my_base]\n",
      "print('c count is ' + str(c_count))\n",
      "print('t count is ' + str(t_count))"
     ],
     "language": "python",
     "metadata": {},
     "outputs": [
      {
       "output_type": "stream",
       "stream": "stdout",
       "text": [
        "c count is 63\n",
        "t count is 32"
       ]
      }
     ],
     "prompt_number": 4
    },
    {
     "cell_type": "code",
     "collapsed": false,
     "input": [
      "base_counts = {'a' : 25, 't' : 32, 'g' : 85, 'c' : 63}\n",
      "\n",
      "# we can loop through this list if we hard-code the keys\n",
      "print('hard-coded:')\n",
      "for base in ('a', 't', 'g', 'c'):\n",
      "    print('count for ' + base + ' is ' + str(base_counts[base]))\n",
      "\n",
      "# we can also ask for the list of keys using .keys()\n",
      "print('\\nusing keys():')\n",
      "for base in base_counts.keys():\n",
      "    print('count for ' + base + ' is ' + str(base_counts[base]))  \n",
      "  \n",
      "#how about with sorting\n",
      "print('\\nusing sorted keys():')\n",
      "for base in sorted(base_counts.keys()):\n",
      "    print('count for ' + base + ' is ' + str(base_counts[base]))  \n",
      "\n",
      "    \n",
      "# or we can loop through a list of pairs of keys and values using .items()\n",
      "print('\\nusing items():')\n",
      "for base, count in base_counts.items():\n",
      "    print('count for ' + base + ' is ' + str(count))  \n",
      "    \n",
      "# pay attention to the order of the bases in the output here!"
     ],
     "language": "python",
     "metadata": {},
     "outputs": [
      {
       "output_type": "stream",
       "stream": "stdout",
       "text": [
        "hard-coded:\n",
        "count for a is 25\n",
        "count for t is 32\n",
        "count for g is 85\n",
        "count for c is 63\n",
        "\n",
        "using keys():\n",
        "count for a is 25\n",
        "count for c is 63\n",
        "count for t is 32\n",
        "count for g is 85\n",
        "\n",
        "using sorted keys():\n",
        "count for a is 25\n",
        "count for c is 63\n",
        "count for g is 85\n",
        "count for t is 32\n",
        "\n",
        "using items():\n",
        "count for a is 25\n",
        "count for c is 63\n",
        "count for t is 32\n",
        "count for g is 85"
       ]
      }
     ],
     "prompt_number": 5
    },
    {
     "cell_type": "markdown",
     "metadata": {},
     "source": [
      "Take a good look at the last example above; this is slightly different from all the for loops we have seen previously because this one has two variables each time round the loop:\n",
      "\n",
      "    for base, count in base_counts.items():\n",
      "\n",
      "we could get the same effect by doing this:\n",
      "\n",
      "    for base in base_counts.keys():\n",
      "        count = base_counts[base]\n",
      "\n",
      "but the first way is cleaner and clearer."
     ]
    },
    {
     "cell_type": "code",
     "collapsed": false,
     "input": [
      "# what if we're not sure whether or not a key exists in a dict?\n",
      "# trying to get the value for a key that does not exist results in an error\n",
      "base_counts = {'a' : 25, 't' : 32, 'g' : 85, 'c' : 63}\n",
      "print(base_counts['b'])"
     ],
     "language": "python",
     "metadata": {},
     "outputs": [
      {
       "ename": "KeyError",
       "evalue": "'b'",
       "output_type": "pyerr",
       "traceback": [
        "\u001b[1;31m---------------------------------------------------------------------------\u001b[0m\n\u001b[1;31mKeyError\u001b[0m                                  Traceback (most recent call last)",
        "\u001b[1;32m/home/martin/Dropbox/projects/python_course/<ipython-input-6-125d18f64fa2>\u001b[0m in \u001b[0;36m<module>\u001b[1;34m()\u001b[0m\n\u001b[0;32m      1\u001b[0m \u001b[1;31m#what if we're not sure whether or not a key exists in a dict?\u001b[0m\n\u001b[1;33m\u001b[0m\u001b[0m\n\u001b[0;32m      2\u001b[0m \u001b[0mbase_counts\u001b[0m \u001b[1;33m=\u001b[0m \u001b[1;33m{\u001b[0m\u001b[1;34m'a'\u001b[0m \u001b[1;33m:\u001b[0m \u001b[1;36m25\u001b[0m\u001b[1;33m,\u001b[0m \u001b[1;34m't'\u001b[0m \u001b[1;33m:\u001b[0m \u001b[1;36m32\u001b[0m\u001b[1;33m,\u001b[0m \u001b[1;34m'g'\u001b[0m \u001b[1;33m:\u001b[0m \u001b[1;36m85\u001b[0m\u001b[1;33m,\u001b[0m \u001b[1;34m'c'\u001b[0m \u001b[1;33m:\u001b[0m \u001b[1;36m63\u001b[0m\u001b[1;33m}\u001b[0m\u001b[1;33m\u001b[0m\u001b[0m\n\u001b[1;32m----> 3\u001b[1;33m \u001b[0mprint\u001b[0m\u001b[1;33m(\u001b[0m\u001b[0mbase_counts\u001b[0m\u001b[1;33m[\u001b[0m\u001b[1;34m'b'\u001b[0m\u001b[1;33m]\u001b[0m\u001b[1;33m)\u001b[0m\u001b[1;33m\u001b[0m\u001b[0m\n\u001b[0m",
        "\u001b[1;31mKeyError\u001b[0m: 'b'"
       ]
      }
     ],
     "prompt_number": 6
    },
    {
     "cell_type": "code",
     "collapsed": false,
     "input": [
      "# we can check it first by saying if key in dict\n",
      "base_counts = {'a' : 25, 't' : 32, 'g' : 85, 'c' : 63}\n",
      "if 'b' in base_counts:\n",
      "    print(base_counts['b'])\n",
      "else:\n",
      "    print('no b')\n",
      "    \n",
      "# or use the .get() method where the first argument is the key we want\n",
      "# and the second argument is the default value to be returned if that\n",
      "# key doesn't exist in the dict\n",
      "b_count = base_counts.get('b', 0)\n",
      "print(b_count)"
     ],
     "language": "python",
     "metadata": {},
     "outputs": [
      {
       "output_type": "stream",
       "stream": "stdout",
       "text": [
        "no b\n",
        "0"
       ]
      }
     ],
     "prompt_number": 7
    },
    {
     "cell_type": "markdown",
     "metadata": {},
     "source": [
      "##Ranges\n",
      "\n",
      "Imagine we want to generate a list of numbers from 1 to 10:\n",
      "\n",
      "    for i in (1,2,3,4,5,6,7,8,9,10)\n",
      "\n",
      "Python has a `range()` function. You can use it with one, two, or three arguments:"
     ]
    },
    {
     "cell_type": "code",
     "collapsed": false,
     "input": [
      "# with one argument it goes from 0 to that number\n",
      "for i in range(10):\n",
      "    print(i)"
     ],
     "language": "python",
     "metadata": {},
     "outputs": [
      {
       "output_type": "stream",
       "stream": "stdout",
       "text": [
        "0\n",
        "1\n",
        "2\n",
        "3\n",
        "4\n",
        "5\n",
        "6\n",
        "7\n",
        "8\n",
        "9"
       ]
      }
     ],
     "prompt_number": 8
    },
    {
     "cell_type": "code",
     "collapsed": false,
     "input": [
      "# with two arguments it goes from the first number (inclusive) to the second (exclusive)\n",
      "for i in range(3,8):\n",
      "    print(i)"
     ],
     "language": "python",
     "metadata": {},
     "outputs": [
      {
       "output_type": "stream",
       "stream": "stdout",
       "text": [
        "3\n",
        "4\n",
        "5\n",
        "6\n",
        "7"
       ]
      }
     ],
     "prompt_number": 9
    },
    {
     "cell_type": "code",
     "collapsed": false,
     "input": [
      "# with three arguments it uses the third as the step size\n",
      "for i in range(2, 12, 3):\n",
      "    print(i)"
     ],
     "language": "python",
     "metadata": {},
     "outputs": [
      {
       "output_type": "stream",
       "stream": "stdout",
       "text": [
        "2\n",
        "5\n",
        "8\n",
        "11"
       ]
      }
     ],
     "prompt_number": 10
    },
    {
     "cell_type": "markdown",
     "metadata": {},
     "source": [
      "##Exercises\n",
      "\n",
      "**1.** Modify your script from the last exercise so that it uses a dict to store the names/motifs of restriction enzymes. Admire how much nicer it looks :-)\n",
      "\n",
      "**2.** Write a new script that will take an input sequence and make a base frequency count as in the examples above. You can use the code above to print out the counts, but you will have to figure out\n",
      "how to construct the dict in the first place! \n",
      "\n",
      "**3.** Modify your script so that instead of printing base frequencies it prints dimer frequencies (aa, ac, ag, at, ca, etc.) Think carefully about which bit of the script need changing. \n",
      "\n",
      "**4.** Modify the script so that it counts frequencies of kmer of arbitrary length. "
     ]
    },
    {
     "cell_type": "code",
     "collapsed": false,
     "input": [],
     "language": "python",
     "metadata": {},
     "outputs": []
    }
   ],
   "metadata": {}
  }
 ]
}