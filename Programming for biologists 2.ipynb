{
 "metadata": {
  "name": "Programming for biologists 2"
 },
 "nbformat": 3,
 "nbformat_minor": 0,
 "worksheets": [
  {
   "cells": [
    {
     "cell_type": "markdown",
     "metadata": {},
     "source": [
      "#Functions\n",
      "\n",
      "We have seen some built-in Python functions:\n",
      "\n",
      "- `print()`\n",
      "- `len()`\n",
      "- `open()`\n",
      "\n",
      "And some methods:\n",
      "\n",
      "- `.read()`\n",
      "- `.write()`\n",
      "- `.upper()`\n",
      "- `.replace()`\n",
      "\n",
      "An important difference is that **functions** like print don't belong to any particular object - if we want to print something we just write `print()`.\n",
      "\n",
      "**Methods** always belong to an object - if we want to convert a string to upper case we can't just write `upper()` - we have to write `something.upper()`. \n",
      "\n",
      "Methods only work on the right type of thing - we cannot call `.read()` on a string or a number, and we cannot call `.replace()` on a file.\n",
      "\n",
      "###Describing functions\n",
      "\n",
      "What do we need to know about a function in order to use it? Input and output. E.g. `len()`:\n",
      "\n",
      "- input is a string\n",
      "- output is a number that tells us the length of the string\n",
      "\n",
      "How about `open()`?\n",
      "\n",
      "- input is a string that is the name of a file, and a string that is the mode (reading, writing, appending, etc)\n",
      "- output is an object representing the file\n",
      "\n",
      "A useful function for bioinformatics would be a FASTA formatter. Let's make up a name: `format_fasta()`.\n",
      "\n",
      "- input is a string that is the name of the sequence, and a string that is the DNA sequence\n",
      "- output is a string that represents that sequence in FASTA format\n",
      "\n",
      "This function doesn't exist in Python, but if it did, then we could do something like this:\n",
      "\n",
      "    output_file = open('output.fasta')\n",
      "    output_file.write(format_fasta('ABC123', 'actgatcgatcgatcgatcgactagctagctacgtagctag'))\n",
      "\n",
      "and when we looked at the output file we would see\n",
      "\n",
      "    >ABC123\n",
      "    actgatcgatcgatcgatcgactagctagctacgtagctag\n",
      "\n",
      "\n",
      "###Defining new functions\n",
      "\n",
      "Let's define the `format_fasta` function so that we can use it in our scripts. This is how we define a function:\n",
      "\n",
      "    def format_fasta(name, sequence):\n",
      "        fasta_string = '>' + name + \"\\n\" + sequence + \"\\n\"\n",
      "        return fasta_string\n",
      "\n",
      "The definition is made up of several parts\n",
      "\n",
      "- we start by writing `def` which stands for _define_\n",
      "- next we write the name of the function we are defining\n",
      "- next we write a list of the arguments (inputs) in brackets\n",
      "- this line ends with a colon\n",
      "- then we write the code that we want to run, which uses the arguments\n",
      "- the code that will be run is indented \n",
      "- finally, we write `return` and then the value we want to return (the output)\n",
      "\n",
      "Pay close attention to the indentation as this is the first example we've seen. In general, we indent lines when we want to indicate that they belong together in some way. A group of indented lines is often called a **block**. The lines in a function are grouped together because they are the lines that make up the function. Later on in the course we will see examples of different types of blocks. \n",
      "\n",
      "It's important at this stage to be clear about the difference between **defining** a function and **calling** it. These are two completely separate operations. Defining a function like in the code above does not cause the code to be run - it simply tells Python what to do when it _is_ eventually run. Calling the function means actually using it, and it's at this point that the code in the block will be excecuted.\n",
      "\n",
      "Let's check that it works with a few examples"
     ]
    },
    {
     "cell_type": "code",
     "collapsed": false,
     "input": [
      "#this function takes a name and sequence and returns a FASTA-formatted string\n",
      "def format_fasta(name, sequence):\n",
      "    fasta_string = '>' + name + \"\\n\" + sequence + \"\\n\"\n",
      "    return fasta_string\n",
      "\n",
      "#test the function by using it in a print statement\n",
      "print(format_fasta('ABC123', 'actagctagctatcgctacaatcgt'))"
     ],
     "language": "python",
     "metadata": {},
     "outputs": [
      {
       "output_type": "stream",
       "stream": "stdout",
       "text": [
        ">ABC123\n",
        "actagctagctatcgctacaatcgt"
       ]
      }
     ],
     "prompt_number": 1
    },
    {
     "cell_type": "code",
     "collapsed": false,
     "input": [
      "def format_fasta(name, sequence):\n",
      "    fasta_string = '>' + name + \"\\n\" + sequence + \"\\n\"\n",
      "    return fasta_string\n",
      "\n",
      "# becase the function returns a string, we can use it anywhere where we would normally use a string.\n",
      "# e.g. we can store the result as a variable\n",
      "my_fasta_sequence = format_fasta('XYZ789', 'actgatcgatcgactatcgctagt')\n",
      "print(\"the formatted fasta sequence is:\\n\" + my_fasta_sequence)"
     ],
     "language": "python",
     "metadata": {},
     "outputs": [
      {
       "output_type": "stream",
       "stream": "stdout",
       "text": [
        "the formatted fasta sequence is:\n",
        ">XYZ789\n",
        "actgatcgatcgactatcgctagt"
       ]
      }
     ],
     "prompt_number": 2
    },
    {
     "cell_type": "code",
     "collapsed": false,
     "input": [
      "def format_fasta(name, sequence):\n",
      "    fasta_string = '>' + name + \"\\n\" + sequence + \"\\n\"\n",
      "    return fasta_string\n",
      "\n",
      "# we can also use variables for the inputs\n",
      "my_sequence_name = 'HIJ456'\n",
      "my_sequence_dna = 'atcgatcctcgtacgtac'\n",
      "print(format_fasta(my_sequence_name, my_sequence_dna))"
     ],
     "language": "python",
     "metadata": {},
     "outputs": [
      {
       "output_type": "stream",
       "stream": "stdout",
       "text": [
        ">HIJ456\n",
        "atcgatcctcgtacgtac"
       ]
      }
     ],
     "prompt_number": 3
    },
    {
     "cell_type": "code",
     "collapsed": false,
     "input": [
      "def format_fasta(name, sequence):\n",
      "    fasta_string = '>' + name + \"\\n\" + sequence + \"\\n\"\n",
      "    return fasta_string\n",
      "\n",
      "# we can use the result of other functions or methods as the input\n",
      "# here we use str() and len() to generate a name for the sequence\n",
      "# and we use upper() to convert the dna to upper case\n",
      "my_sequence_dna = 'atcgatcctcgtacgtac'\n",
      "print(format_fasta('a sequence of length ' + str(len(my_sequence_dna)), my_sequence_dna.upper()))"
     ],
     "language": "python",
     "metadata": {},
     "outputs": [
      {
       "output_type": "stream",
       "stream": "stdout",
       "text": [
        ">a sequence of length 18\n",
        "ATCGATCCTCGTACGTAC"
       ]
      }
     ],
     "prompt_number": 4
    },
    {
     "cell_type": "code",
     "collapsed": false,
     "input": [
      "def format_fasta(name, sequence):\n",
      "    fasta_string = '>' + name + \"\\n\" + sequence + \"\\n\"\n",
      "    return fasta_string\n",
      "\n",
      "# the argument names inside the function are completely separate from those outside\n",
      "name = 'martin'\n",
      "sequence = 'abcdefghijklmnopqrstuvwxyz'\n",
      "print(format_fasta('ABC123', 'actagctagctatcgctacaatcgt'))"
     ],
     "language": "python",
     "metadata": {},
     "outputs": [
      {
       "output_type": "stream",
       "stream": "stdout",
       "text": [
        ">ABC123\n",
        "actagctagctatcgctacaatcgt"
       ]
      }
     ],
     "prompt_number": 5
    },
    {
     "cell_type": "markdown",
     "metadata": {},
     "source": [
      "## Formatting strings\n",
      "\n",
      "Until now we have been inserting variables into strings by using `+` to concaenate them together:\n",
      "\n",
      "    fasta_string = '>' + my_header + '\\n' + my_sequence + '\\n'\n",
      "\n",
      "A more elegant way to do it is using placeholder values and using the format() method:\n",
      "\n",
      "    fasta_string = '>{header}\\n{sequence}\\n'.format(header=my_header, sequence=my_sequence)\n",
      "\n",
      "This lets you create a string with placeholder values surrounded by curly braces. When you call `.format()` on your string, and give the values that should go in the placeholders as a series of arguments, the result is a properly formatted string with the placeholders replaced by the values you specified. For reasonably-complex strings, this can often be clearer to write than using multiple string concatenation (`+`) operators."
     ]
    },
    {
     "cell_type": "markdown",
     "metadata": {},
     "source": [
      "##Substitutability\n",
      "\n",
      "The above examples demonstrate a very important point about Python. We can always replace something with a variable/function/method that gives the same type of thing.\n",
      "\n",
      "E.g. we know that the len() function takes a single string as input, so the input can be any of :\n",
      "\n",
      "- a hard-coded string : `len('actagcatgctagct')`\n",
      "- a variable that refers to a string : `len(my_sequence_dna)`\n",
      "- a function that returns a string : `len(format_fasta('abc', 'atgc'))`\n",
      "- a method that returns a string : `len(my_file.read())`\n",
      "\n",
      "The same goes for methods; we know that we can call `upper()` on a string and it will return the string in upper case, but what if we want to do a `.replace()` as well?\n",
      "We could do this:\n",
      "\n",
      "    test_string = 'abcdefg'\n",
      "    uppercase_test_string = test_string.upper()\n",
      "    final_string = uppercase_test_string.replace('B', 'X')\n",
      "\n",
      "but becase `.upper()` returns a string we can call `.replace` on the result directly, like this:\n",
      "\n",
      "    final_string = test_string.upper().replace('B', 'X')\n",
      "\n",
      "We can make statements arbitrarily long this way, but they get hard to read. This statement will \n",
      "\n",
      "- open a file\n",
      "- read the contents\n",
      "- remove the newline \n",
      "- convert to upper case\n",
      "- do a replacement\n",
      "- print the result\n",
      "\n",
      "    `print(open('input.txt').read().rstrip('\\n').upper().replace('O', 'OOO'))`\n",
      "\n",
      "Other important things to remember:\n",
      "\n",
      "There is no difference between buil-in functions (like `len()`) and ones that we define (like `format_fasta()`)\n",
      "\n",
      "Variable names don't have any meaning; they are just labels for things. Our `format_fasta()` function would work _exactly_ the same if we defined it like this:\n",
      "\n",
      "    def format_fasta(apple, banana):\n",
      "        fasta_string = '>' + apple + \"\\n\" + banana + \"\\n\"\n",
      "        return fasta_string\n",
      "\n",
      "It would just be harder to read! To put it another way, if we pick a variable, and replace all occurences of it with another word, then the behaviour of the program will not change.\n",
      "\n",
      "##Encapsulation\n",
      "\n",
      "Look back at the section above 'describing functions'. Once we had decided what the inputs and outputs of our `format_fasta()` function were,\n",
      "we were able to write a line of code that used the function _before_ we have even written it!\n",
      "\n",
      "Similarly, once we had decided on the inputs and outputs, we were able to define our function without worrying about how we were going to use it. \n",
      "\n",
      "This is the main value of writing functions; they let you concentrate on one bit of code at a time and allow you to manage the complexity of larger programs.\n",
      "\n",
      "###Use functions to encapsulate chunks of code whenever possible!\n",
      "\n",
      "\n",
      "---"
     ]
    },
    {
     "cell_type": "markdown",
     "metadata": {},
     "source": [
      "##Exercises\n",
      "\n",
      "**1.** Rewrite your FASTA formatter from this morning to use the new `format_fasta()` function.\n",
      "\n",
      "**2.** A good way to write complex programs is to use simple functions as building blocks. \n",
      "Write a function that takes two filenames as inputs, and returns a fasta-formatted string containing a name from the first file and a sequence from the second file. Give it a sensible name.\n",
      "You will not have to write much new code for this - you already know how to open the files, etc. from the first exercise. Hint: you should use `format_fasta()` inside your new function to \n",
      "do the job of actually constructing the string."
     ]
    }
   ],
   "metadata": {}
  }
 ]
}