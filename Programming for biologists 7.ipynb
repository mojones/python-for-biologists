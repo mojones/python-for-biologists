{
 "metadata": {
  "name": "Programming for biologists 7"
 },
 "nbformat": 3,
 "nbformat_minor": 0,
 "worksheets": [
  {
   "cells": [
    {
     "cell_type": "markdown",
     "metadata": {},
     "source": [
      "##Files and processes\n",
      "\n",
      "Very often in bioinformatics we will be using a programming language like Python to glue together other programs. \n",
      "\n",
      "Functions which deal with the file system live in the **os** module, so we have to import that module before we can use them \n",
      "(remember `import re` from when we were looking at regular expressions)."
     ]
    },
    {
     "cell_type": "code",
     "collapsed": false,
     "input": [
      "import os\n",
      "\n",
      "# os.listdir() will list the files in the current directory\n",
      "filenames = os.listdir()\n",
      "print(filenames)"
     ],
     "language": "python",
     "metadata": {},
     "outputs": [
      {
       "output_type": "stream",
       "stream": "stdout",
       "text": [
        "['lambda_trim8.fasta_vs_masked.fasta', 'lambda_trim8.fasta', 'Introduction to Programming 7.ipynb', 'Introduction to Prgramming 10.ipynb', 'input.txt', 'Introduction to Programming 5.ipynb (Case Conflict 1)', '-', 'output3.txt', 'Introduction to Programming 1_files', '1', 'Programming for biologists 1.ipynb', '5', '3.txt~', 'lambda_lower.fasta', 'new1.fasta', 'Programming for biologists 2.ipynb', 'lambda_trim8.fasta_vs_trim4.fasta', 'masked.fasta', 'aligned.txt', 'trim4.fasta', 'Introduction to Programming 9.ipynb', 'blast.txt', 'test.py', '3', 'Programming for biologists 1.md', 'Exercises 7.ipynb', 'lambda_trim8.fasta_vs_lambda_lower.fasta', 'acq91111.matcher', 'heo875.fasta', 'accessions.txt', 'Programming for biologists 6.ipynb', 'lower.fasta', 'Introduction to Programming 5.ipynb (Case Conflict 2)', 'meg548.fasta', 'Programming for biologists 1_files', 'Housekeeping.ipynb', 'Introduction to Programming 5.ipynb (Case Conflict 3)', 'output.txt', 'test.py~', 'amibg_lowered.fasta', '2', 'only_long.fasta', 'intro_1.html', 'seqb.fasta', 'big.fasta', 'endswitha.fasta', 'output2.txt', 'copy.fasta', 'myseq.fasta', 'juh365.fasta', 'seqa.fasta', '6', 'lambda_trim8.fasta_vs_new1.fasta', 'output_filename', 'fullname.txt', 'only_ecori.fasta', '3.fasta', 'Exercises 8.ipynb', 'abc123.fasta', '4', 'fastafunction.txt', 'intro_1_files', 'exercises 10.ipynb', '3.1.fasta', 'Programming for biologists 3.ipynb', 'Programming for biologists 5.ipynb', 'Introduction to Programming 8.ipynb', 'lambda_trim4.fasta', 'trim8.fasta', 'Programming for biologists 4.ipynb']\n"
       ]
      }
     ],
     "prompt_number": 1
    },
    {
     "cell_type": "code",
     "collapsed": false,
     "input": [
      "# or we can specify a directory\n",
      "more_filenames = os.listdir('/var/lib')\n",
      "print(more_filenames)"
     ],
     "language": "python",
     "metadata": {},
     "outputs": [
      {
       "output_type": "stream",
       "stream": "stdout",
       "text": [
        "['logrotate', 'udisks', 'os-prober', 'belocs', 'NetworkManager', 'colord', 'tor', 'gems', 'dkms', 'locales', 'mysql', 'aspell', 'doc-base', 'ubiquity', 'synaptic', 'usbutils', 'libreoffice', 'gconf', 'avahi-autoipd', 'alsa', 'upower', 'ghostscript', 'initscripts', 'dictionaries-common', 'php5', 'ureadahead', 'ghc', 'apt', 'computer-janitor', 'lightdm', 'AccountsService', 'update-rc.d', 'urandom', 'samba', 'security', 'tex-common', 'acpi-support', 'plymouth', 'dhcp3', 'sudo', 'usb_modeswitch', 'binfmts', 'mplayer', 'defoma', 'python-support', 'misc', 'update-manager', 'emacsen-common', 'texmf', 'msttcorefonts', 'jetty', 'pulseaudio', 'gdm', 'hp', 'xfonts', 'mlocate', 'vim', 'initramfs-tools', 'dhcp', 'polkit-1', 'python', 'update-notifier', 'xkb', 'pam', 'dpkg', 'libuuid', 'postgresql', 'kdm', 'ucf', 'dbus', 'flashplugin-installer', 'libxml-sax-perl', 'apt-xapian-index', 'snmp', 'rfkill', 'ghc-7.0.3', 'ntpdate', 'sgml-base', 'dropbox', 'xml-core', 'insserv', 'pycentral']\n"
       ]
      }
     ],
     "prompt_number": 2
    },
    {
     "cell_type": "code",
     "collapsed": false,
     "input": [
      "# we can combine this with what we already know\n",
      "# for example, add a for loop and an if to list all text files\n",
      "for filename in os.listdir():\n",
      "    if filename.endswith('.txt'):\n",
      "        print(filename)"
     ],
     "language": "python",
     "metadata": {},
     "outputs": [
      {
       "output_type": "stream",
       "stream": "stdout",
       "text": [
        "input.txt\n",
        "output3.txt\n",
        "aligned.txt\n",
        "seqname.txt\n",
        "blast.txt\n",
        "firstname.txt\n",
        "accessions.txt\n",
        "lastname.txt\n",
        "output.txt\n",
        "3.txt\n",
        "output2.txt\n",
        "fullname.txt\n",
        "fastafunction.txt\n",
        "dna.txt"
       ]
      }
     ],
     "prompt_number": 15
    },
    {
     "cell_type": "code",
     "collapsed": false,
     "input": [
      "# we can test if a file exists\n",
      "print(os.path.exists('dna.txt'))"
     ],
     "language": "python",
     "metadata": {},
     "outputs": [
      {
       "output_type": "stream",
       "stream": "stdout",
       "text": [
        "True"
       ]
      }
     ],
     "prompt_number": 16
    },
    {
     "cell_type": "code",
     "collapsed": false,
     "input": [
      "# we can create and delete directories\n",
      "os.mkdir('testdir')\n",
      "print(os.path.exists('testdir'))\n",
      "os.rmdir('testdir')\n",
      "print(os.path.exists('testdir'))"
     ],
     "language": "python",
     "metadata": {},
     "outputs": [
      {
       "output_type": "stream",
       "stream": "stdout",
       "text": [
        "True\n",
        "False"
       ]
      }
     ],
     "prompt_number": 17
    },
    {
     "cell_type": "markdown",
     "metadata": {},
     "source": [
      "The module for dealing with running external programms is called **subprocess**. The most useful function is `check_output`, \n",
      "which will run an external program and return its output."
     ]
    },
    {
     "cell_type": "code",
     "collapsed": false,
     "input": [
      "import subprocess\n",
      "# here is the command we want to run - from the emboss package\n",
      "my_command = 'matcher -asequence seqa.fasta -bsequence seqb.fasta -outfile aligned.txt'\n",
      "\n",
      "# we pass the command to check_output with a couple of other options\n",
      "# we want to be able to pass parameters to the command, so we use shell=True\n",
      "# and we want to also see the standard error\n",
      "output = subprocess.check_output(my_command, shell=True, stderr=subprocess.STDOUT)\n",
      "print(output)"
     ],
     "language": "python",
     "metadata": {},
     "outputs": [
      {
       "output_type": "stream",
       "stream": "stdout",
       "text": [
        "b'Waterman-Eggert local alignment of two sequences\\n'"
       ]
      }
     ],
     "prompt_number": 18
    },
    {
     "cell_type": "markdown",
     "metadata": {},
     "source": [
      "This snippet will work for 90% of what you need to do involving external programmes. \n",
      "There are lots more details to do with running external processes - much of it is OS specific. \n",
      "See [here](http://docs.python.org/library/subprocess.html) for lots more details."
     ]
    },
    {
     "cell_type": "markdown",
     "metadata": {},
     "source": [
      "##Exercises\n",
      "\n",
      "**1.** If you don't already have it, install [EMBOSS](http://emboss.sourceforge.net/download/#Stable/).\n",
      "\n",
      "Write a program that will list all files in a directory that end in `.fasta` and\n",
      "do a pairwise alignment between all pairs using the EMBOSS matcher program as demo'd above.\n",
      "You will need to manually create a directory and add a few fasta files for testing; here are three to get you started:\n",
      "\n",
      "    >gi|233142507|gb|ACQ91111.1| cytochrome c oxidase subunit I [Homo sapiens]\n",
      "    MFADRWLFSTNHKDIGTLYLLFGAWAGVLGTALSLLIRAELGQPGNLLGNDHIYNVIVTAHAFVMIFFMV\n",
      "    MPIMIGGFGNWLVPLMIGAPDMAFPRMNNMSFWLLPPSLLLLLASAMVEAGAGTGWTVYPPLAGNYSHPG\n",
      "    ASVDLTIFSLHLAGVSSILGAINFITTIINMKPPAMTQYQTPLFVWSVLITAVLLLLSLPVLAAGITMLL\n",
      "    TDRNLNTTFFDPAGGGDPILYQHLFWFFGHPEVYILILPGFGMISHIVTYYSGKKEPFGYMGMVWAMMSI\n",
      "    GFLGFIVWAHHMFTVGMDVDTRAYFTSATMIIAIPTGVKVFSWLATLHGSNMKWSAAVLWALGFIFLFTV\n",
      "    GGLTGIVLANSSLDIVLHDTYYVVAHFHYVLSMGAVFAIMGGFIHWFPLFSGYTLDQTYAKIHFTIMFIG\n",
      "    VNLTFFPQHFLGLSGMPRRYSDYPDAYTTWNILSSVGSFISLTAVMLMIFMIWEAFASKRKVLMVEEPSM\n",
      "    NLEWLYGCPPPYHTFEEPVYMKS\n",
      "\n",
      "    >gi|5835235|ref|NP_008278.1|COX1_10704 cytochrome c oxidase subunit I [Drosophila melanogaster]\n",
      "    SRQWLFSTNHKDIGTLYFIFGAWAGMVGTSLSILIRAELGHPGALIGDDQIYNVIVTAHAFIMIFFMVMP\n",
      "    IMIGGFGNWLVPLMLGAPDMAFPRMNNMSFWLLPPALSLLLVSSMVENGAGTGWTVYPPLSAGIAHGGAS\n",
      "    VDLAIFSLHLAGISSILGAVNFITTVINMRSTGISLDRMPLFVWSVVITALLLLLSLPVLAGAITMLLTD\n",
      "    RNLNTSFFDPAGGGDPILYQHLFWFFGHPEVYILILPGFGMISHIISQESGKKETFGSLGMIYAMLAIGL\n",
      "    LGFIVWAHHMFTVGMDVDTRAYFTSATMIIAVPTGIKIFSWLATLHGTQLSYSPAILWALGFVFLFTVGG\n",
      "    LTGVVLANSSVDIILHDTYYVVAHFHYVLSMGAVFAIMAGFIHWYPLFTGLTLNNKWLKSHFIIMFIGVN\n",
      "    LTFFPQHFLGLAGMPRRYSDYPDAYTTWNIVSTIGSTISLLGILFFFFIIWESLVSQRQVIYPIQLNSSI\n",
      "    EWYQNTPPAEHSYSELPLLTN\n",
      "\n",
      "    >gi|5834891|ref|NP_006961.1|COX1_10021 cytochrome c oxidase subunit I [Caenorhabditis elegans]\n",
      "    MNLYKKYQGGLAVWLESSNHKDIGTLYFIFGLWSGMVGTSFSLLIRLELAKPGFFLSNGQLYNSVITAHA\n",
      "    ILMIFFMVMPTMIGGFGNWLLPLMLGAPDMSFPRLNNLSFWLLPTSMLLILDACFVDMGCGTSWTVYPPL\n",
      "    STMGHPGSSVDLAIFSLHAAGLSSILGGINFMCTTKNLRSSSISLEHMTLFVWTVFVTVFLLVLSLPVLA\n",
      "    GAITMLLTDRNLNTSFFDPSTGGNPLIYQHLFWFFGHPEVYILILPAFGIVSQSTLYLTGKKEVFGALGM\n",
      "    VYAILSIGLIGCVVWAHHMYTVGMDLDSRAYFSAATMVIAVPTGVKVFSWLATLFGMKMVFNPLLLWVLG\n",
      "    FIFLFTLGGLTGVVLSNSSLDIILHDTYYVVSHFHYVLSLGAVFGIFTGVTLWWSFITGYVLDKLMMSAV\n",
      "    FILLFIGVNLTFFPLHFAGLHGFPRKYLDYPDVYSVWNIIASYGSIISTAGLFLFIYVLLESFFSYRLVI\n",
      "    SDYYSNSSPEYCMSNYVFGHSYQSEIYFSTTSLKN\n",
      "\n",
      "Remember to avoid aligning a sequence against itself, and make sure to pick a sensible name for the output files.\n",
      "Check that you can run `matcher` normally on the command line first before trying it inside Python. "
     ]
    }
   ],
   "metadata": {}
  }
 ]
}